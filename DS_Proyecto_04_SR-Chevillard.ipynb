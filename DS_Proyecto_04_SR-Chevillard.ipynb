{
 "cells": [
  {
   "cell_type": "markdown",
   "metadata": {
    "id": "gzJLet17WTzh"
   },
   "source": [
    "# Proyecto 04 - Sistemas de Recomendación v2.0\n",
    "\n",
    "Este proyecto partirá del análisis y modelo desarrollado en el Proyecto 3. El objetivo de este proyecto es desarrollarar dos nuevos modelos de filtro colaborativo, utilizando diferentes medidas de similitud (uno utilizando la similitud coseno y otro BM25). También se continuará analizando el modelo de ALS desarrollado en el proyecto 3, pero se utilizará el método bayesiano para optimizar los hiperparametros y reducir considerablemente los tiempos de procesamiento.\n",
    "\n",
    "## Dataset: STEAM\n",
    "\n",
    "**[Aquí](https://github.com/kang205/SASRec) se puede descargar el Dataset de STEAM. Son dos archivos, uno de calificaciones y otro de información sobre los juegos.**\n",
    "\n",
    "## Contenido de este Notebook\n",
    "\n",
    "1. Análisis exploratorio del Dataset.\n",
    "2. Transformaciones para los modelos.\n",
    "3. Desarrollo de modelos y optimización de hiperparametros.\n",
    "4. Análisis sobre un usuario aleatorio.\n",
    "5. Conclusiones.\n",
    "\n",
    "### 0. descargamos las librerías que utilizaremos ###\n",
    "\n"
   ]
  },
  {
   "cell_type": "code",
   "execution_count": 1,
   "metadata": {
    "id": "lWZhtUxEWTzj"
   },
   "outputs": [],
   "source": [
    "import gzip\n",
    "import ast\n",
    "import pandas as pd\n",
    "import numpy as np\n",
    "import matplotlib.pyplot as plt\n",
    "import seaborn as sns\n",
    "sns.set(palette=\"Blues_d\")\n",
    "\n",
    "\n",
    "def parse(path):\n",
    "    g = gzip.open(path, 'r')\n",
    "    for l in g:\n",
    "        yield eval(l)"
   ]
  },
  {
   "cell_type": "markdown",
   "metadata": {
    "id": "BmEM25k4WTzw"
   },
   "source": [
    "#### **Reviews** ####\n",
    "\n",
    "Se descargan los datos de las reviews y se los pasara a un archivo .csv debido a que el proceso de descarga demora un tiempo considerable. "
   ]
  },
  {
   "cell_type": "code",
   "execution_count": 2,
   "metadata": {
    "id": "abAXItn1WTz0"
   },
   "outputs": [],
   "source": [
    "# %%time\n",
    "# contador = 0\n",
    "# data_reviews = []\n",
    "# # Vamos a guardar una de cada 10 reviews para no llenar la memoria RAM. Si pones n = 3, \n",
    "# # abrira uno de cada tres, y asi.\n",
    "# n = 1\n",
    "# for l in parse('steam_reviews.json.gz'):\n",
    "#     if contador%n == 0:\n",
    "#         data_reviews.append(l)\n",
    "#     else:\n",
    "#         pass\n",
    "#     contador += 1\n",
    "# data_reviews = pd.DataFrame(data_reviews)\n",
    "\n",
    "# data_reviews.to_csv('data_reviews.csv',index=False)\n",
    "\n",
    "\n",
    "data_reviews = pd.read_csv('data_reviews.csv')"
   ]
  },
  {
   "cell_type": "code",
   "execution_count": 3,
   "metadata": {
    "id": "7GovAZQBWTz8"
   },
   "outputs": [
    {
     "name": "stdout",
     "output_type": "stream",
     "text": [
      "Nº de filas: 7793069\n",
      "Nº de columnas: 12\n",
      "\n",
      "\n",
      "Nombre de las columnas: \n",
      "username\n",
      "hours\n",
      "products\n",
      "product_id\n",
      "page_order\n",
      "date\n",
      "text\n",
      "early_access\n",
      "page\n",
      "found_funny\n",
      "compensation\n",
      "user_id\n",
      "\n",
      "\n"
     ]
    }
   ],
   "source": [
    "print(f'Nº de filas: {data_reviews.shape[0]}')\n",
    "print(f'Nº de columnas: {data_reviews.shape[1]}')\n",
    "print('\\n')\n",
    "\n",
    "print('Nombre de las columnas: ')\n",
    "for col in data_reviews.columns:\n",
    "    print(col)\n",
    "\n",
    "print('\\n')\n"
   ]
  },
  {
   "cell_type": "markdown",
   "metadata": {
    "id": "04ed3teRWT0T"
   },
   "source": [
    "#### **Games** ####\n",
    "\n",
    "Se descargarán los datos de los juegos y se lo pasara a un archivo .csv para facilitar el posterior acceso."
   ]
  },
  {
   "cell_type": "code",
   "execution_count": 4,
   "metadata": {
    "id": "8wRb24Y5WT0U"
   },
   "outputs": [],
   "source": [
    "# %%time\n",
    "# data_games = []\n",
    "# for l in parse('steam_games.json.gz'):\n",
    "#     data_games.append(l)\n",
    "# data_games = pd.DataFrame(data_games)\n",
    "# data_games.to_csv('data_games.csv',index=False)\n",
    "\n",
    "data_games = pd.read_csv('data_games.csv')"
   ]
  },
  {
   "cell_type": "code",
   "execution_count": 5,
   "metadata": {},
   "outputs": [
    {
     "name": "stdout",
     "output_type": "stream",
     "text": [
      "Nº de filas: 32135\n",
      "Nº de columnas: 16\n",
      "\n",
      "\n",
      "Nombre de las columnas: \n",
      "publisher\n",
      "genres\n",
      "app_name\n",
      "title\n",
      "url\n",
      "release_date\n",
      "tags\n",
      "discount_price\n",
      "reviews_url\n",
      "specs\n",
      "price\n",
      "early_access\n",
      "id\n",
      "developer\n",
      "sentiment\n",
      "metascore\n",
      "\n",
      "\n"
     ]
    }
   ],
   "source": [
    "print(f'Nº de filas: {data_games.shape[0]}')\n",
    "print(f'Nº de columnas: {data_games.shape[1]}')\n",
    "print('\\n')\n",
    "\n",
    "print('Nombre de las columnas: ')\n",
    "for col in data_games.columns:\n",
    "    print(col)\n",
    "\n",
    "print('\\n')\n"
   ]
  },
  {
   "cell_type": "markdown",
   "metadata": {},
   "source": [
    "***\n",
    "### 1. Análisis exploratorio ###\n",
    "\n",
    "#### 1. Data Reviews ####"
   ]
  },
  {
   "cell_type": "code",
   "execution_count": 6,
   "metadata": {},
   "outputs": [
    {
     "data": {
      "text/html": [
       "<div>\n",
       "<style scoped>\n",
       "    .dataframe tbody tr th:only-of-type {\n",
       "        vertical-align: middle;\n",
       "    }\n",
       "\n",
       "    .dataframe tbody tr th {\n",
       "        vertical-align: top;\n",
       "    }\n",
       "\n",
       "    .dataframe thead th {\n",
       "        text-align: right;\n",
       "    }\n",
       "</style>\n",
       "<table border=\"1\" class=\"dataframe\">\n",
       "  <thead>\n",
       "    <tr style=\"text-align: right;\">\n",
       "      <th></th>\n",
       "      <th>username</th>\n",
       "      <th>hours</th>\n",
       "      <th>products</th>\n",
       "      <th>product_id</th>\n",
       "      <th>page_order</th>\n",
       "      <th>date</th>\n",
       "      <th>text</th>\n",
       "      <th>early_access</th>\n",
       "      <th>page</th>\n",
       "      <th>found_funny</th>\n",
       "      <th>compensation</th>\n",
       "      <th>user_id</th>\n",
       "    </tr>\n",
       "  </thead>\n",
       "  <tbody>\n",
       "    <tr>\n",
       "      <th>0</th>\n",
       "      <td>Chaos Syren</td>\n",
       "      <td>0.1</td>\n",
       "      <td>41.0</td>\n",
       "      <td>725280</td>\n",
       "      <td>0</td>\n",
       "      <td>2017-12-17</td>\n",
       "      <td>This would not be acceptable as an entertainme...</td>\n",
       "      <td>False</td>\n",
       "      <td>1</td>\n",
       "      <td>NaN</td>\n",
       "      <td>NaN</td>\n",
       "      <td>NaN</td>\n",
       "    </tr>\n",
       "    <tr>\n",
       "      <th>1</th>\n",
       "      <td>₮ʜᴇ Wᴀʀᴛᴏɴ</td>\n",
       "      <td>51.1</td>\n",
       "      <td>769.0</td>\n",
       "      <td>328100</td>\n",
       "      <td>0</td>\n",
       "      <td>2017-12-27</td>\n",
       "      <td>looks like a facebook game</td>\n",
       "      <td>False</td>\n",
       "      <td>1</td>\n",
       "      <td>NaN</td>\n",
       "      <td>NaN</td>\n",
       "      <td>NaN</td>\n",
       "    </tr>\n",
       "    <tr>\n",
       "      <th>2</th>\n",
       "      <td>hello?&lt;</td>\n",
       "      <td>14.6</td>\n",
       "      <td>2.0</td>\n",
       "      <td>328100</td>\n",
       "      <td>1</td>\n",
       "      <td>2017-10-16</td>\n",
       "      <td>Better than Minecraft</td>\n",
       "      <td>False</td>\n",
       "      <td>1</td>\n",
       "      <td>2.0</td>\n",
       "      <td>Product received for free</td>\n",
       "      <td>NaN</td>\n",
       "    </tr>\n",
       "    <tr>\n",
       "      <th>3</th>\n",
       "      <td>Cyderine916</td>\n",
       "      <td>5.0</td>\n",
       "      <td>64.0</td>\n",
       "      <td>35140</td>\n",
       "      <td>0</td>\n",
       "      <td>2018-01-04</td>\n",
       "      <td>I love and idolized Batman and this game is Ma...</td>\n",
       "      <td>False</td>\n",
       "      <td>1</td>\n",
       "      <td>NaN</td>\n",
       "      <td>NaN</td>\n",
       "      <td>NaN</td>\n",
       "    </tr>\n",
       "    <tr>\n",
       "      <th>4</th>\n",
       "      <td>DarklyThinking</td>\n",
       "      <td>16.6</td>\n",
       "      <td>577.0</td>\n",
       "      <td>35140</td>\n",
       "      <td>1</td>\n",
       "      <td>2018-01-04</td>\n",
       "      <td>Still worth playing in 2018.\\nProbably my favo...</td>\n",
       "      <td>False</td>\n",
       "      <td>1</td>\n",
       "      <td>NaN</td>\n",
       "      <td>NaN</td>\n",
       "      <td>7.656120e+16</td>\n",
       "    </tr>\n",
       "  </tbody>\n",
       "</table>\n",
       "</div>"
      ],
      "text/plain": [
       "         username  hours  products  product_id  page_order        date  \\\n",
       "0     Chaos Syren    0.1      41.0      725280           0  2017-12-17   \n",
       "1      ₮ʜᴇ Wᴀʀᴛᴏɴ   51.1     769.0      328100           0  2017-12-27   \n",
       "2         hello?<   14.6       2.0      328100           1  2017-10-16   \n",
       "3     Cyderine916    5.0      64.0       35140           0  2018-01-04   \n",
       "4  DarklyThinking   16.6     577.0       35140           1  2018-01-04   \n",
       "\n",
       "                                                text  early_access  page  \\\n",
       "0  This would not be acceptable as an entertainme...         False     1   \n",
       "1                         looks like a facebook game         False     1   \n",
       "2                              Better than Minecraft         False     1   \n",
       "3  I love and idolized Batman and this game is Ma...         False     1   \n",
       "4  Still worth playing in 2018.\\nProbably my favo...         False     1   \n",
       "\n",
       "   found_funny               compensation       user_id  \n",
       "0          NaN                        NaN           NaN  \n",
       "1          NaN                        NaN           NaN  \n",
       "2          2.0  Product received for free           NaN  \n",
       "3          NaN                        NaN           NaN  \n",
       "4          NaN                        NaN  7.656120e+16  "
      ]
     },
     "execution_count": 6,
     "metadata": {},
     "output_type": "execute_result"
    }
   ],
   "source": [
    "data_reviews.head()"
   ]
  },
  {
   "cell_type": "code",
   "execution_count": 7,
   "metadata": {},
   "outputs": [
    {
     "data": {
      "text/plain": [
       "username            208\n",
       "hours             26537\n",
       "products          14961\n",
       "product_id            0\n",
       "page_order            0\n",
       "date                  0\n",
       "text              17972\n",
       "early_access          0\n",
       "page                  0\n",
       "found_funny     6592313\n",
       "compensation    7647446\n",
       "user_id         4616846\n",
       "dtype: int64"
      ]
     },
     "execution_count": 7,
     "metadata": {},
     "output_type": "execute_result"
    }
   ],
   "source": [
    "data_reviews.isna().sum()"
   ]
  },
  {
   "cell_type": "markdown",
   "metadata": {},
   "source": [
    "Se descartaran las columnas `products`,`page_order`,`date`, `early_acces`,`page`,`found_funny` y `compensation` debido a que no contienen información relevante. `user_id` debido a que hay tantos valores vacíos se descartara y se utilizara `username` para referenciar a los usuarios y `text` si bien es la columna que contiene la información sobre la opinión del usuario hacia el juego pero debido a que es texto no se encuentra en el alcance de este proyecto."
   ]
  },
  {
   "cell_type": "code",
   "execution_count": 8,
   "metadata": {},
   "outputs": [],
   "source": [
    "dr = data_reviews[['username','product_id','hours']].copy()"
   ]
  },
  {
   "cell_type": "markdown",
   "metadata": {},
   "source": [
    "Se incorpora el título del juego para visualizar mejor."
   ]
  },
  {
   "cell_type": "code",
   "execution_count": 9,
   "metadata": {},
   "outputs": [],
   "source": [
    "data_games.rename(columns={'id':'product_id'},inplace=True)\n",
    "dr = dr.merge(data_games[['product_id','title']],on='product_id')"
   ]
  },
  {
   "cell_type": "code",
   "execution_count": 10,
   "metadata": {},
   "outputs": [
    {
     "data": {
      "text/plain": [
       "username        208\n",
       "product_id        0\n",
       "hours         26537\n",
       "title             0\n",
       "dtype: int64"
      ]
     },
     "execution_count": 10,
     "metadata": {},
     "output_type": "execute_result"
    }
   ],
   "source": [
    "dr.isna().sum()"
   ]
  },
  {
   "cell_type": "markdown",
   "metadata": {},
   "source": [
    "Los datos vacíos de `username` y `hours` serán descartados, debido a que son un muy pequeño porcentaje a la totalidad de los datos."
   ]
  },
  {
   "cell_type": "code",
   "execution_count": 11,
   "metadata": {},
   "outputs": [
    {
     "data": {
      "text/html": [
       "<div>\n",
       "<style scoped>\n",
       "    .dataframe tbody tr th:only-of-type {\n",
       "        vertical-align: middle;\n",
       "    }\n",
       "\n",
       "    .dataframe tbody tr th {\n",
       "        vertical-align: top;\n",
       "    }\n",
       "\n",
       "    .dataframe thead th {\n",
       "        text-align: right;\n",
       "    }\n",
       "</style>\n",
       "<table border=\"1\" class=\"dataframe\">\n",
       "  <thead>\n",
       "    <tr style=\"text-align: right;\">\n",
       "      <th></th>\n",
       "      <th>username</th>\n",
       "      <th>product_id</th>\n",
       "      <th>hours</th>\n",
       "      <th>title</th>\n",
       "    </tr>\n",
       "  </thead>\n",
       "  <tbody>\n",
       "    <tr>\n",
       "      <th>0</th>\n",
       "      <td>Chaos Syren</td>\n",
       "      <td>725280</td>\n",
       "      <td>0.1</td>\n",
       "      <td>Psi Project</td>\n",
       "    </tr>\n",
       "    <tr>\n",
       "      <th>1</th>\n",
       "      <td>Teef 🐏</td>\n",
       "      <td>725280</td>\n",
       "      <td>0.9</td>\n",
       "      <td>Psi Project</td>\n",
       "    </tr>\n",
       "    <tr>\n",
       "      <th>2</th>\n",
       "      <td>nd</td>\n",
       "      <td>725280</td>\n",
       "      <td>1.0</td>\n",
       "      <td>Psi Project</td>\n",
       "    </tr>\n",
       "    <tr>\n",
       "      <th>3</th>\n",
       "      <td>Sneaky_Panda</td>\n",
       "      <td>725280</td>\n",
       "      <td>0.6</td>\n",
       "      <td>Psi Project</td>\n",
       "    </tr>\n",
       "    <tr>\n",
       "      <th>4</th>\n",
       "      <td>wasp99rock</td>\n",
       "      <td>725280</td>\n",
       "      <td>0.3</td>\n",
       "      <td>Psi Project</td>\n",
       "    </tr>\n",
       "    <tr>\n",
       "      <th>...</th>\n",
       "      <td>...</td>\n",
       "      <td>...</td>\n",
       "      <td>...</td>\n",
       "      <td>...</td>\n",
       "    </tr>\n",
       "    <tr>\n",
       "      <th>7772790</th>\n",
       "      <td>Joish</td>\n",
       "      <td>518790</td>\n",
       "      <td>13.9</td>\n",
       "      <td>theHunter: Call of the Wild™</td>\n",
       "    </tr>\n",
       "    <tr>\n",
       "      <th>7772791</th>\n",
       "      <td>Proxwian</td>\n",
       "      <td>518790</td>\n",
       "      <td>44.2</td>\n",
       "      <td>theHunter: Call of the Wild™</td>\n",
       "    </tr>\n",
       "    <tr>\n",
       "      <th>7772792</th>\n",
       "      <td>XsurbanatorX</td>\n",
       "      <td>518790</td>\n",
       "      <td>0.2</td>\n",
       "      <td>theHunter: Call of the Wild™</td>\n",
       "    </tr>\n",
       "    <tr>\n",
       "      <th>7772793</th>\n",
       "      <td>Proxwian</td>\n",
       "      <td>518790</td>\n",
       "      <td>44.2</td>\n",
       "      <td>theHunter: Call of the Wild™</td>\n",
       "    </tr>\n",
       "    <tr>\n",
       "      <th>7772794</th>\n",
       "      <td>XsurbanatorX</td>\n",
       "      <td>518790</td>\n",
       "      <td>0.2</td>\n",
       "      <td>theHunter: Call of the Wild™</td>\n",
       "    </tr>\n",
       "  </tbody>\n",
       "</table>\n",
       "<p>7772795 rows × 4 columns</p>\n",
       "</div>"
      ],
      "text/plain": [
       "             username  product_id  hours                         title\n",
       "0         Chaos Syren      725280    0.1                   Psi Project\n",
       "1              Teef 🐏      725280    0.9                   Psi Project\n",
       "2                  nd      725280    1.0                   Psi Project\n",
       "3        Sneaky_Panda      725280    0.6                   Psi Project\n",
       "4          wasp99rock      725280    0.3                   Psi Project\n",
       "...               ...         ...    ...                           ...\n",
       "7772790         Joish      518790   13.9  theHunter: Call of the Wild™\n",
       "7772791      Proxwian      518790   44.2  theHunter: Call of the Wild™\n",
       "7772792  XsurbanatorX      518790    0.2  theHunter: Call of the Wild™\n",
       "7772793      Proxwian      518790   44.2  theHunter: Call of the Wild™\n",
       "7772794  XsurbanatorX      518790    0.2  theHunter: Call of the Wild™\n",
       "\n",
       "[7772795 rows x 4 columns]"
      ]
     },
     "execution_count": 11,
     "metadata": {},
     "output_type": "execute_result"
    }
   ],
   "source": [
    "dr.dropna(inplace=True)\n",
    "dr.reset_index(drop=True)"
   ]
  },
  {
   "cell_type": "markdown",
   "metadata": {},
   "source": [
    "Se descartarán los duplicados, en el caso de que haya diferencia en `hours` se mantendrá el mayor valor."
   ]
  },
  {
   "cell_type": "code",
   "execution_count": 12,
   "metadata": {},
   "outputs": [
    {
     "data": {
      "text/html": [
       "<div>\n",
       "<style scoped>\n",
       "    .dataframe tbody tr th:only-of-type {\n",
       "        vertical-align: middle;\n",
       "    }\n",
       "\n",
       "    .dataframe tbody tr th {\n",
       "        vertical-align: top;\n",
       "    }\n",
       "\n",
       "    .dataframe thead th {\n",
       "        text-align: right;\n",
       "    }\n",
       "</style>\n",
       "<table border=\"1\" class=\"dataframe\">\n",
       "  <thead>\n",
       "    <tr style=\"text-align: right;\">\n",
       "      <th></th>\n",
       "      <th>username</th>\n",
       "      <th>product_id</th>\n",
       "      <th>hours</th>\n",
       "      <th>title</th>\n",
       "    </tr>\n",
       "  </thead>\n",
       "  <tbody>\n",
       "    <tr>\n",
       "      <th>0</th>\n",
       "      <td>󰀗THE0ERROR󰀗</td>\n",
       "      <td>322330</td>\n",
       "      <td>99.0</td>\n",
       "      <td>Don't Starve Together</td>\n",
       "    </tr>\n",
       "    <tr>\n",
       "      <th>1</th>\n",
       "      <td>󰀗THE0ERROR󰀗</td>\n",
       "      <td>204300</td>\n",
       "      <td>138.1</td>\n",
       "      <td>Awesomenauts - the 2D moba</td>\n",
       "    </tr>\n",
       "    <tr>\n",
       "      <th>2</th>\n",
       "      <td>󰀗S-Rabbit󰀗</td>\n",
       "      <td>322330</td>\n",
       "      <td>116.0</td>\n",
       "      <td>Don't Starve Together</td>\n",
       "    </tr>\n",
       "    <tr>\n",
       "      <th>3</th>\n",
       "      <td>󰀗 Lolicage</td>\n",
       "      <td>244630</td>\n",
       "      <td>7.5</td>\n",
       "      <td>NEOTOKYO</td>\n",
       "    </tr>\n",
       "    <tr>\n",
       "      <th>4</th>\n",
       "      <td>󰀖Mr.Tarunio</td>\n",
       "      <td>391540</td>\n",
       "      <td>22.1</td>\n",
       "      <td>Undertale</td>\n",
       "    </tr>\n",
       "    <tr>\n",
       "      <th>...</th>\n",
       "      <td>...</td>\n",
       "      <td>...</td>\n",
       "      <td>...</td>\n",
       "      <td>...</td>\n",
       "    </tr>\n",
       "    <tr>\n",
       "      <th>6863837</th>\n",
       "      <td>!</td>\n",
       "      <td>386360</td>\n",
       "      <td>6.5</td>\n",
       "      <td>SMITE®</td>\n",
       "    </tr>\n",
       "    <tr>\n",
       "      <th>6863838</th>\n",
       "      <td>!</td>\n",
       "      <td>377160</td>\n",
       "      <td>123.3</td>\n",
       "      <td>Fallout 4</td>\n",
       "    </tr>\n",
       "    <tr>\n",
       "      <th>6863839</th>\n",
       "      <td>!</td>\n",
       "      <td>304240</td>\n",
       "      <td>42.7</td>\n",
       "      <td>Resident Evil / biohazard HD REMASTER</td>\n",
       "    </tr>\n",
       "    <tr>\n",
       "      <th>6863840</th>\n",
       "      <td>!</td>\n",
       "      <td>227940</td>\n",
       "      <td>20.9</td>\n",
       "      <td>Heroes &amp;amp; Generals</td>\n",
       "    </tr>\n",
       "    <tr>\n",
       "      <th>6863841</th>\n",
       "      <td>!</td>\n",
       "      <td>108600</td>\n",
       "      <td>13.6</td>\n",
       "      <td>Project Zomboid</td>\n",
       "    </tr>\n",
       "  </tbody>\n",
       "</table>\n",
       "<p>6863842 rows × 4 columns</p>\n",
       "</div>"
      ],
      "text/plain": [
       "            username  product_id  hours                                  title\n",
       "0        󰀗THE0ERROR󰀗      322330   99.0                  Don't Starve Together\n",
       "1        󰀗THE0ERROR󰀗      204300  138.1             Awesomenauts - the 2D moba\n",
       "2         󰀗S-Rabbit󰀗      322330  116.0                  Don't Starve Together\n",
       "3         󰀗 Lolicage      244630    7.5                               NEOTOKYO\n",
       "4        󰀖Mr.Tarunio      391540   22.1                              Undertale\n",
       "...              ...         ...    ...                                    ...\n",
       "6863837            !      386360    6.5                                 SMITE®\n",
       "6863838            !      377160  123.3                              Fallout 4\n",
       "6863839            !      304240   42.7  Resident Evil / biohazard HD REMASTER\n",
       "6863840            !      227940   20.9                  Heroes &amp; Generals\n",
       "6863841            !      108600   13.6                        Project Zomboid\n",
       "\n",
       "[6863842 rows x 4 columns]"
      ]
     },
     "execution_count": 12,
     "metadata": {},
     "output_type": "execute_result"
    }
   ],
   "source": [
    "dr.sort_values(by=['username','product_id','hours'],ascending=False,inplace=True)\n",
    "dr.drop_duplicates(subset=['username','product_id'],inplace=True)\n",
    "dr.reset_index(drop=True)"
   ]
  },
  {
   "cell_type": "markdown",
   "metadata": {},
   "source": [
    "* #### username ####"
   ]
  },
  {
   "cell_type": "code",
   "execution_count": 13,
   "metadata": {},
   "outputs": [
    {
     "name": "stdout",
     "output_type": "stream",
     "text": [
      "Usuarios con mayor cantidad de juegos\n",
      "                 username  count\n",
      "1342846       Saint Aaron   1236\n",
      "856805           Kodyd194   1103\n",
      "1660152  VahidSlayerOfAll    885\n",
      "91307                Alex    869\n",
      "1104270              Nick    862\n",
      "302615              Chris    805\n",
      "1609864               Tom    805\n",
      "1344613            Salarn    774\n",
      "19607                  ..    735\n",
      "1353495           Sarkoth    730\n",
      "1838183              alel    730\n",
      "2174400        mark | dj.    718\n",
      "988487               Matt    703\n",
      "377947                Dan    695\n",
      "1336801     STEVEN AGEVER    662\n",
      "1017012              Mike    645\n",
      "753661               Jack    643\n",
      "26895                 123    632\n",
      "1346613               Sam    631\n",
      "1178700    Paradise Decay    631\n"
     ]
    }
   ],
   "source": [
    "user = dr['product_id'].groupby(dr['username']).agg('count').reset_index()\n",
    "user.sort_values(ascending=False,inplace=True,by='product_id')\n",
    "user.rename(columns={'product_id':'count'},inplace=True)\n",
    "print('Usuarios con mayor cantidad de juegos')\n",
    "print(user.head(20))\n"
   ]
  },
  {
   "cell_type": "code",
   "execution_count": 14,
   "metadata": {},
   "outputs": [
    {
     "data": {
      "image/png": "[encoded data removed]",
      "text/plain": [
       "<Figure size 720x360 with 1 Axes>"
      ]
     },
     "metadata": {},
     "output_type": "display_data"
    }
   ],
   "source": [
    "fig = plt.figure(figsize = (10,5))\n",
    "sns.distplot(user['count'][user['count']<100],kde=False,bins=100)\n",
    "plt.ylabel(\"número de usuarios\",fontsize=16)\n",
    "plt.xlabel(\"cantidad de juegos\",fontsize=16)\n",
    "plt.yscale('log')\n",
    "plt.title('Distribución juegos por usuarios (Acotado)',fontsize=20)\n",
    "plt.axvline(x=15, c='r', ls='--', label='12 juegos')\n",
    "plt.legend()\n",
    "\n",
    "plt.show()"
   ]
  },
  {
   "cell_type": "code",
   "execution_count": 15,
   "metadata": {},
   "outputs": [
    {
     "name": "stdout",
     "output_type": "stream",
     "text": [
      "Cantidad usuarios:  2563307\n",
      "Cantidad de usuarios con menos de 12 juegos:  2487464\n",
      "Porcentaje de reseñas de usuarios con menos de 12 juegos:  69.87 %\n"
     ]
    }
   ],
   "source": [
    "dat=user.shape[0]\n",
    "print('Cantidad usuarios: ',dat)\n",
    "\n",
    "dat2=user[user['count']<12].shape[0]\n",
    "print('Cantidad de usuarios con menos de 12 juegos: ',dat2)\n",
    "\n",
    "res_dat=user['count'][user['count']<12].sum()\n",
    "res=dr.shape[0]\n",
    "dat3=round((res_dat/res)*100,2)\n",
    "\n",
    "print('Porcentaje de reseñas de usuarios con menos de 12 juegos: ',dat3,'%')"
   ]
  },
  {
   "cell_type": "markdown",
   "metadata": {},
   "source": [
    "Se define que un usuario es relevante para el modelo si tienen menos de 12 juegos. Si bien la cantidad de reseñas de los usuarios con menos de 12 juegos son casi un 70% del total de las reseñas, esto va a generar un dataset más homogéneo y el modelo producirá mejores resultados.\n",
    "\n",
    "* #### product_id ####"
   ]
  },
  {
   "cell_type": "code",
   "execution_count": 16,
   "metadata": {},
   "outputs": [
    {
     "name": "stdout",
     "output_type": "stream",
     "text": [
      "¿Cuáles son los juegos más populares?\n",
      "                            title   count\n",
      "19                Team Fortress 2  121324\n",
      "2212                         Rust   68031\n",
      "1003                Borderlands 2   50574\n",
      "6118                    Fallout 4   48041\n",
      "3458                    Robocraft   45612\n",
      "2684           Grand Theft Auto V   41843\n",
      "6657                    Undertale   40306\n",
      "1655                         DayZ   39697\n",
      "1792                     Warframe   38858\n",
      "22                       Portal 2   38845\n",
      "1763        Heroes &amp; Generals   35823\n",
      "3998  Life is Strange - Episode 1   35115\n",
      "140                   Garry's Mod   33660\n",
      "4900        ARK: Survival Evolved   30558\n",
      "8040                         H1Z1   30498\n",
      "1515                    Starbound   30056\n",
      "1243                       Arma 3   28868\n",
      "8365                    Paladins®   28648\n",
      "255   Sid Meier's Civilization® V   25921\n",
      "994    Mount &amp; Blade: Warband   25654\n"
     ]
    }
   ],
   "source": [
    "games = dr['username'].groupby(dr['product_id']).agg('count').reset_index()\n",
    "games = games.merge(data_games[['product_id','title']],on='product_id')\n",
    "games.sort_values(ascending=False,inplace=True,by='username')\n",
    "games.drop(columns='product_id',axis=1,inplace=True)\n",
    "games = games[['title','username']]\n",
    "games.rename(columns={'username':'count'},inplace=True)\n",
    "print('¿Cuáles son los juegos más populares?')\n",
    "print(games.head(20))"
   ]
  },
  {
   "cell_type": "code",
   "execution_count": 17,
   "metadata": {},
   "outputs": [
    {
     "data": {
      "image/png": "[encoded data removed]",
      "text/plain": [
       "<Figure size 720x360 with 1 Axes>"
      ]
     },
     "metadata": {},
     "output_type": "display_data"
    }
   ],
   "source": [
    "fig = plt.figure(figsize = (10,5))\n",
    "\n",
    "sns.distplot(games['count'][games['count']<100],kde=False,bins=100)\n",
    "plt.ylabel(\"Número de juegos\",fontsize=16)\n",
    "plt.yscale('log')\n",
    "plt.axvline(x=15, c='r', ls='--', label='25 usuarios')\n",
    "plt.xlabel(\"cantidad de usuarios\",fontsize=16)\n",
    "plt.title('Distribución usuarios por juego (Acotado)',fontsize=20)\n",
    "plt.legend()\n",
    "plt.show()"
   ]
  },
  {
   "cell_type": "code",
   "execution_count": 18,
   "metadata": {},
   "outputs": [
    {
     "name": "stdout",
     "output_type": "stream",
     "text": [
      "Cantidad juegos:  15391\n",
      "Cantidad de juegos con menos de 25 usuarios:  6835\n",
      "Cantidad de juegos con menos de 25 usuarios (Porcentaje):  44.41 %\n",
      "Porcentaje de reseñas de juegos con menos de 25 usuarios:  0.89 %\n"
     ]
    }
   ],
   "source": [
    "dat=games.shape[0]\n",
    "print('Cantidad juegos: ',dat)\n",
    "\n",
    "dat2=games[games['count']<25].shape[0]\n",
    "print('Cantidad de juegos con menos de 25 usuarios: ',dat2)\n",
    "\n",
    "dat3=round((dat2/dat)*100,2)\n",
    "print('Cantidad de juegos con menos de 25 usuarios (Porcentaje): ',dat3,'%')\n",
    "\n",
    "res_dat=games['count'][games['count']<25].sum()\n",
    "res=dr.shape[0]\n",
    "dat3=round((res_dat/res)*100,2)\n",
    "\n",
    "print('Porcentaje de reseñas de juegos con menos de 25 usuarios: ',dat3,'%')"
   ]
  },
  {
   "cell_type": "markdown",
   "metadata": {},
   "source": [
    "Los juegos con menos de 25 usuarios equivalen a menos del 1% de las reseñas totales, por lo que se descartaran. \n",
    "\n",
    "* #### hours ####"
   ]
  },
  {
   "cell_type": "code",
   "execution_count": 19,
   "metadata": {},
   "outputs": [
    {
     "data": {
      "image/png": "[encoded data removed]",
      "text/plain": [
       "<Figure size 1440x360 with 2 Axes>"
      ]
     },
     "metadata": {},
     "output_type": "display_data"
    }
   ],
   "source": [
    "fig = plt.figure(figsize = (10*2,5))\n",
    "plt.subplot(1,2,1)\n",
    "sns.distplot(dr['hours'][dr['hours']<100],kde=False,bins=100)\n",
    "plt.xlabel('Horas juadas',fontsize=16)\n",
    "plt.yscale('log')\n",
    "plt.ylabel('Número de usuarios',fontsize=16)\n",
    "plt.axvline(x=5, c='r', ls='--', label='3 horas jugadas')\n",
    "plt.legend()\n",
    "plt.title('Distribución horas jugadas (Acotado)',fontsize=20)\n",
    "\n",
    "plt.subplot(1,2,2)\n",
    "sns.boxplot(dr['hours'][dr.hours<100])\n",
    "plt.xlabel('Horas juadas',fontsize=16)\n",
    "plt.title('Distribución horas jugadas (Acotado)',fontsize=20)\n",
    "\n",
    "\n",
    "plt.show()"
   ]
  },
  {
   "cell_type": "code",
   "execution_count": 20,
   "metadata": {},
   "outputs": [
    {
     "name": "stdout",
     "output_type": "stream",
     "text": [
      "Cantidad reviews:  6863842\n",
      "Cantidad de reviews con menos de 5 horas jugadas:  2074187\n",
      "Cantidad de reviews con menos de 5 horas jugadas (Porcentaje):  30.22 %\n"
     ]
    }
   ],
   "source": [
    "dat=dr['hours'].shape[0]\n",
    "print('Cantidad reviews: ',dat)\n",
    "\n",
    "dat2=dr['hours'][dr.hours<5].shape[0]\n",
    "print('Cantidad de reviews con menos de 5 horas jugadas: ',dat2)\n",
    "dat3=round((dat2/dat)*100,2)\n",
    "print('Cantidad de reviews con menos de 5 horas jugadas (Porcentaje): ',dat3,'%')\n"
   ]
  },
  {
   "cell_type": "markdown",
   "metadata": {},
   "source": [
    "Hay una gran cantidad de usuarios que jugaron menos de 5 horas, que se puede considerar un tiempo suficiente para categorizar al usuario como que jugo el juego. \n",
    "\n",
    "***\n",
    "***\n",
    "\n",
    "#### 2. Data Games ####"
   ]
  },
  {
   "cell_type": "code",
   "execution_count": 21,
   "metadata": {},
   "outputs": [
    {
     "data": {
      "text/html": [
       "<div>\n",
       "<style scoped>\n",
       "    .dataframe tbody tr th:only-of-type {\n",
       "        vertical-align: middle;\n",
       "    }\n",
       "\n",
       "    .dataframe tbody tr th {\n",
       "        vertical-align: top;\n",
       "    }\n",
       "\n",
       "    .dataframe thead th {\n",
       "        text-align: right;\n",
       "    }\n",
       "</style>\n",
       "<table border=\"1\" class=\"dataframe\">\n",
       "  <thead>\n",
       "    <tr style=\"text-align: right;\">\n",
       "      <th></th>\n",
       "      <th>publisher</th>\n",
       "      <th>genres</th>\n",
       "      <th>app_name</th>\n",
       "      <th>title</th>\n",
       "      <th>url</th>\n",
       "      <th>release_date</th>\n",
       "      <th>tags</th>\n",
       "      <th>discount_price</th>\n",
       "      <th>reviews_url</th>\n",
       "      <th>specs</th>\n",
       "      <th>price</th>\n",
       "      <th>early_access</th>\n",
       "      <th>product_id</th>\n",
       "      <th>developer</th>\n",
       "      <th>sentiment</th>\n",
       "      <th>metascore</th>\n",
       "    </tr>\n",
       "  </thead>\n",
       "  <tbody>\n",
       "    <tr>\n",
       "      <th>0</th>\n",
       "      <td>Kotoshiro</td>\n",
       "      <td>['Action', 'Casual', 'Indie', 'Simulation', 'S...</td>\n",
       "      <td>Lost Summoner Kitty</td>\n",
       "      <td>Lost Summoner Kitty</td>\n",
       "      <td>http://store.steampowered.com/app/761140/Lost_...</td>\n",
       "      <td>2018-01-04</td>\n",
       "      <td>['Strategy', 'Action', 'Indie', 'Casual', 'Sim...</td>\n",
       "      <td>4.49</td>\n",
       "      <td>http://steamcommunity.com/app/761140/reviews/?...</td>\n",
       "      <td>['Single-player']</td>\n",
       "      <td>4.99</td>\n",
       "      <td>False</td>\n",
       "      <td>761140.0</td>\n",
       "      <td>Kotoshiro</td>\n",
       "      <td>NaN</td>\n",
       "      <td>NaN</td>\n",
       "    </tr>\n",
       "    <tr>\n",
       "      <th>1</th>\n",
       "      <td>Making Fun, Inc.</td>\n",
       "      <td>['Free to Play', 'Indie', 'RPG', 'Strategy']</td>\n",
       "      <td>Ironbound</td>\n",
       "      <td>Ironbound</td>\n",
       "      <td>http://store.steampowered.com/app/643980/Ironb...</td>\n",
       "      <td>2018-01-04</td>\n",
       "      <td>['Free to Play', 'Strategy', 'Indie', 'RPG', '...</td>\n",
       "      <td>NaN</td>\n",
       "      <td>http://steamcommunity.com/app/643980/reviews/?...</td>\n",
       "      <td>['Single-player', 'Multi-player', 'Online Mult...</td>\n",
       "      <td>Free To Play</td>\n",
       "      <td>False</td>\n",
       "      <td>643980.0</td>\n",
       "      <td>Secret Level SRL</td>\n",
       "      <td>Mostly Positive</td>\n",
       "      <td>NaN</td>\n",
       "    </tr>\n",
       "    <tr>\n",
       "      <th>2</th>\n",
       "      <td>Poolians.com</td>\n",
       "      <td>['Casual', 'Free to Play', 'Indie', 'Simulatio...</td>\n",
       "      <td>Real Pool 3D - Poolians</td>\n",
       "      <td>Real Pool 3D - Poolians</td>\n",
       "      <td>http://store.steampowered.com/app/670290/Real_...</td>\n",
       "      <td>2017-07-24</td>\n",
       "      <td>['Free to Play', 'Simulation', 'Sports', 'Casu...</td>\n",
       "      <td>NaN</td>\n",
       "      <td>http://steamcommunity.com/app/670290/reviews/?...</td>\n",
       "      <td>['Single-player', 'Multi-player', 'Online Mult...</td>\n",
       "      <td>Free to Play</td>\n",
       "      <td>False</td>\n",
       "      <td>670290.0</td>\n",
       "      <td>Poolians.com</td>\n",
       "      <td>Mostly Positive</td>\n",
       "      <td>NaN</td>\n",
       "    </tr>\n",
       "    <tr>\n",
       "      <th>3</th>\n",
       "      <td>彼岸领域</td>\n",
       "      <td>['Action', 'Adventure', 'Casual']</td>\n",
       "      <td>弹炸人2222</td>\n",
       "      <td>弹炸人2222</td>\n",
       "      <td>http://store.steampowered.com/app/767400/2222/</td>\n",
       "      <td>2017-12-07</td>\n",
       "      <td>['Action', 'Adventure', 'Casual']</td>\n",
       "      <td>0.83</td>\n",
       "      <td>http://steamcommunity.com/app/767400/reviews/?...</td>\n",
       "      <td>['Single-player']</td>\n",
       "      <td>0.99</td>\n",
       "      <td>False</td>\n",
       "      <td>767400.0</td>\n",
       "      <td>彼岸领域</td>\n",
       "      <td>NaN</td>\n",
       "      <td>NaN</td>\n",
       "    </tr>\n",
       "    <tr>\n",
       "      <th>4</th>\n",
       "      <td>NaN</td>\n",
       "      <td>NaN</td>\n",
       "      <td>Log Challenge</td>\n",
       "      <td>NaN</td>\n",
       "      <td>http://store.steampowered.com/app/773570/Log_C...</td>\n",
       "      <td>NaN</td>\n",
       "      <td>['Action', 'Indie', 'Casual', 'Sports']</td>\n",
       "      <td>1.79</td>\n",
       "      <td>http://steamcommunity.com/app/773570/reviews/?...</td>\n",
       "      <td>['Single-player', 'Full controller support', '...</td>\n",
       "      <td>2.99</td>\n",
       "      <td>False</td>\n",
       "      <td>773570.0</td>\n",
       "      <td>NaN</td>\n",
       "      <td>NaN</td>\n",
       "      <td>NaN</td>\n",
       "    </tr>\n",
       "  </tbody>\n",
       "</table>\n",
       "</div>"
      ],
      "text/plain": [
       "          publisher                                             genres  \\\n",
       "0         Kotoshiro  ['Action', 'Casual', 'Indie', 'Simulation', 'S...   \n",
       "1  Making Fun, Inc.       ['Free to Play', 'Indie', 'RPG', 'Strategy']   \n",
       "2      Poolians.com  ['Casual', 'Free to Play', 'Indie', 'Simulatio...   \n",
       "3              彼岸领域                  ['Action', 'Adventure', 'Casual']   \n",
       "4               NaN                                                NaN   \n",
       "\n",
       "                  app_name                    title  \\\n",
       "0      Lost Summoner Kitty      Lost Summoner Kitty   \n",
       "1                Ironbound                Ironbound   \n",
       "2  Real Pool 3D - Poolians  Real Pool 3D - Poolians   \n",
       "3                  弹炸人2222                  弹炸人2222   \n",
       "4            Log Challenge                      NaN   \n",
       "\n",
       "                                                 url release_date  \\\n",
       "0  http://store.steampowered.com/app/761140/Lost_...   2018-01-04   \n",
       "1  http://store.steampowered.com/app/643980/Ironb...   2018-01-04   \n",
       "2  http://store.steampowered.com/app/670290/Real_...   2017-07-24   \n",
       "3     http://store.steampowered.com/app/767400/2222/   2017-12-07   \n",
       "4  http://store.steampowered.com/app/773570/Log_C...          NaN   \n",
       "\n",
       "                                                tags  discount_price  \\\n",
       "0  ['Strategy', 'Action', 'Indie', 'Casual', 'Sim...            4.49   \n",
       "1  ['Free to Play', 'Strategy', 'Indie', 'RPG', '...             NaN   \n",
       "2  ['Free to Play', 'Simulation', 'Sports', 'Casu...             NaN   \n",
       "3                  ['Action', 'Adventure', 'Casual']            0.83   \n",
       "4            ['Action', 'Indie', 'Casual', 'Sports']            1.79   \n",
       "\n",
       "                                         reviews_url  \\\n",
       "0  http://steamcommunity.com/app/761140/reviews/?...   \n",
       "1  http://steamcommunity.com/app/643980/reviews/?...   \n",
       "2  http://steamcommunity.com/app/670290/reviews/?...   \n",
       "3  http://steamcommunity.com/app/767400/reviews/?...   \n",
       "4  http://steamcommunity.com/app/773570/reviews/?...   \n",
       "\n",
       "                                               specs         price  \\\n",
       "0                                  ['Single-player']          4.99   \n",
       "1  ['Single-player', 'Multi-player', 'Online Mult...  Free To Play   \n",
       "2  ['Single-player', 'Multi-player', 'Online Mult...  Free to Play   \n",
       "3                                  ['Single-player']          0.99   \n",
       "4  ['Single-player', 'Full controller support', '...          2.99   \n",
       "\n",
       "   early_access  product_id         developer        sentiment  metascore  \n",
       "0         False    761140.0         Kotoshiro              NaN        NaN  \n",
       "1         False    643980.0  Secret Level SRL  Mostly Positive        NaN  \n",
       "2         False    670290.0      Poolians.com  Mostly Positive        NaN  \n",
       "3         False    767400.0              彼岸领域              NaN        NaN  \n",
       "4         False    773570.0               NaN              NaN        NaN  "
      ]
     },
     "execution_count": 21,
     "metadata": {},
     "output_type": "execute_result"
    }
   ],
   "source": [
    "data_games.head()"
   ]
  },
  {
   "cell_type": "markdown",
   "metadata": {},
   "source": [
    "Se descartaran las columnas `app_name`, `url`, `realease_date`, `dicount_price`, `reviews_url`, `early_acces`, `developer` y `metascore` dado que no contienen información relevante."
   ]
  },
  {
   "cell_type": "code",
   "execution_count": 22,
   "metadata": {},
   "outputs": [],
   "source": [
    "dg=data_games[['publisher','app_name','genres','tags','specs','price','product_id','sentiment']].copy()"
   ]
  },
  {
   "cell_type": "code",
   "execution_count": 23,
   "metadata": {},
   "outputs": [
    {
     "data": {
      "text/plain": [
       "publisher     8062\n",
       "app_name         2\n",
       "genres        3283\n",
       "tags           163\n",
       "specs          670\n",
       "price         1377\n",
       "product_id       2\n",
       "sentiment     7182\n",
       "dtype: int64"
      ]
     },
     "execution_count": 23,
     "metadata": {},
     "output_type": "execute_result"
    }
   ],
   "source": [
    "dg.drop_duplicates(inplace=True)\n",
    "dg.isna().sum()"
   ]
  },
  {
   "cell_type": "markdown",
   "metadata": {},
   "source": [
    "* #### publisher ####"
   ]
  },
  {
   "cell_type": "code",
   "execution_count": 24,
   "metadata": {},
   "outputs": [
    {
     "name": "stdout",
     "output_type": "stream",
     "text": [
      "¿Cuales son los desarrolladores con mas juegos?\n",
      "                                              publisher  count\n",
      "0                                                         8061\n",
      "7256                                            Ubisoft    385\n",
      "2020                            Dovetail Games - Trains    360\n",
      "1835                                             Degica    286\n",
      "5141                                Paradox Interactive    271\n",
      "5957                                               SEGA    251\n",
      "2016                            Dovetail Games - Flight    220\n",
      "3697                         KOEI TECMO GAMES CO., LTD.    208\n",
      "261                                          Activision    202\n",
      "858                                      Big Fish Games    195\n",
      "3685                                           KISS ltd    189\n",
      "2012                                     Dovetail Games    176\n",
      "6757                                         THQ Nordic    170\n",
      "1251                                             Capcom    155\n",
      "6590                                     Strategy First    144\n",
      "6490                                        Square Enix    131\n",
      "6324                                    Slitherine Ltd.    122\n",
      "689                          BANDAI NAMCO Entertainment    110\n",
      "5960  SEGA, Feral Interactive (Mac), Feral Interacti...    107\n",
      "1829                                        Deep Silver    101\n"
     ]
    }
   ],
   "source": [
    "dg['publisher'].fillna(value='',inplace=True)\n",
    "\n",
    "games = dg['product_id'].groupby(dg['publisher']).agg('count').reset_index()\n",
    "games.sort_values(ascending=False,inplace=True,by='product_id')\n",
    "games.rename(columns={'product_id':'count'},inplace=True)\n",
    "print('¿Cuales son los desarrolladores con mas juegos?')\n",
    "print(games.head(20))"
   ]
  },
  {
   "cell_type": "code",
   "execution_count": 25,
   "metadata": {},
   "outputs": [
    {
     "data": {
      "image/png": "[encoded data removed]",
      "text/plain": [
       "<Figure size 720x360 with 1 Axes>"
      ]
     },
     "metadata": {},
     "output_type": "display_data"
    }
   ],
   "source": [
    "fig = plt.figure(figsize = (10,5))\n",
    "sns.distplot(games['count'],kde=False,bins=50)\n",
    "plt.yscale('log')\n",
    "plt.xlabel('Juegos',fontsize=16)\n",
    "plt.axvline(x=10, c='r', ls='--', label='10 juegos')\n",
    "plt.ylabel('Desarrolladores',fontsize=16)\n",
    "plt.legend()\n",
    "plt.title('Cantidad de juegos por desarrolladores',fontsize=20)\n",
    "plt.show()"
   ]
  },
  {
   "cell_type": "code",
   "execution_count": 26,
   "metadata": {},
   "outputs": [
    {
     "name": "stdout",
     "output_type": "stream",
     "text": [
      "Cantidad de desarrolladores:  8238\n",
      "Cantidad de desarrolladores con menos de 10 juegos:  7571\n",
      "Cantidad de desarrolladores con menos de 10 juegos (Porcentaje):  91.9 %\n"
     ]
    }
   ],
   "source": [
    "dat=games['count'].shape[0]\n",
    "print('Cantidad de desarrolladores: ',dat)\n",
    "\n",
    "dat2=games['count'][games['count']<5].shape[0]\n",
    "print('Cantidad de desarrolladores con menos de 10 juegos: ',dat2)\n",
    "\n",
    "dat3=round((dat2/dat)*100,2)\n",
    "print('Cantidad de desarrolladores con menos de 10 juegos (Porcentaje): ',dat3,'%')"
   ]
  },
  {
   "cell_type": "markdown",
   "metadata": {},
   "source": [
    "* #### genres ####"
   ]
  },
  {
   "cell_type": "code",
   "execution_count": 27,
   "metadata": {},
   "outputs": [],
   "source": [
    "pd.set_option('mode.chained_assignment', None)\n",
    "\n",
    "if dg.tags.isna().sum() !=0:\n",
    "    dg.genres.loc[dg.genres.notnull()]=dg.genres.loc[dg.genres.notnull()].apply(lambda row: ast.literal_eval(row))\n",
    "\n",
    "    for row in dg.loc[dg.genres.isnull(), 'tags'].index:\n",
    "        dg.genres.loc[row]=[]\n",
    "    \n",
    "generos=dg['genres'].sum()\n",
    "\n",
    "values, counts = np.unique(generos, return_counts=True)"
   ]
  },
  {
   "cell_type": "code",
   "execution_count": 28,
   "metadata": {},
   "outputs": [],
   "source": [
    "sort_index=np.argsort(counts)[::-1]\n",
    "values=[values[i] for i in sort_index]\n",
    "counts=[counts[i] for i in sort_index]"
   ]
  },
  {
   "cell_type": "code",
   "execution_count": 29,
   "metadata": {},
   "outputs": [
    {
     "data": {
      "image/png": "[encoded data removed]",
      "text/plain": [
       "<Figure size 1080x360 with 1 Axes>"
      ]
     },
     "metadata": {},
     "output_type": "display_data"
    }
   ],
   "source": [
    "fig = plt.figure(figsize = (15,5))\n",
    "sns.barplot(x = values, y = counts)\n",
    "plt.xticks(rotation=45,ha='right')\n",
    "plt.xlabel('Generos',fontsize=16)\n",
    "plt.ylabel('Numero de juegos',fontsize=16)\n",
    "plt.title('Cantidad de juegos por generos',fontsize=20)\n",
    "plt.show()"
   ]
  },
  {
   "cell_type": "markdown",
   "metadata": {},
   "source": [
    "* #### tags ####"
   ]
  },
  {
   "cell_type": "code",
   "execution_count": 30,
   "metadata": {},
   "outputs": [],
   "source": [
    "pd.set_option('mode.chained_assignment', None)\n",
    "\n",
    "if dg.tags.isna().sum() !=0:\n",
    "    dg.tags.loc[dg.tags.notnull()]=dg.tags.loc[dg.tags.notnull()].apply(lambda row: ast.literal_eval(row))\n",
    "\n",
    "    for row in dg.loc[dg.tags.isnull(), 'tags'].index:\n",
    "        dg.tags.loc[row]=[]\n",
    "    \n",
    "tags=dg['tags'].sum()\n",
    "\n",
    "values, counts = np.unique(tags, return_counts=True)\n",
    "    "
   ]
  },
  {
   "cell_type": "code",
   "execution_count": 31,
   "metadata": {},
   "outputs": [],
   "source": [
    "sort_index=np.argsort(counts)[::-1]\n",
    "values=[values[i] for i in sort_index]\n",
    "counts=[counts[i] for i in sort_index]"
   ]
  },
  {
   "cell_type": "code",
   "execution_count": 32,
   "metadata": {},
   "outputs": [
    {
     "data": {
      "image/png": "[encoded data removed]",
      "text/plain": [
       "<Figure size 1080x360 with 1 Axes>"
      ]
     },
     "metadata": {},
     "output_type": "display_data"
    }
   ],
   "source": [
    "fig = plt.figure(figsize = (15,5))\n",
    "sns.barplot(x = values[:30], y = counts[:30])\n",
    "plt.xticks(rotation=45,ha='right')\n",
    "plt.xlabel('Generos',fontsize=16)\n",
    "plt.ylabel('Numero de juegos',fontsize=16)\n",
    "plt.title('Cantidad de juegos por generos',fontsize=20)\n",
    "plt.show()"
   ]
  },
  {
   "cell_type": "markdown",
   "metadata": {},
   "source": [
    "* #### specs ####"
   ]
  },
  {
   "cell_type": "code",
   "execution_count": 33,
   "metadata": {},
   "outputs": [],
   "source": [
    "pd.set_option('mode.chained_assignment', None)\n",
    "\n",
    "if dg.specs.isna().sum() !=0:\n",
    "    dg.specs.loc[dg.specs.notnull()]=dg.specs.loc[dg.specs.notnull()].apply(lambda row: ast.literal_eval(row))\n",
    "\n",
    "    for row in dg.loc[dg.specs.isnull(), 'specs'].index:\n",
    "        dg.specs.loc[row]=[]\n",
    "    \n",
    "specs=dg['specs'].sum()\n",
    "\n",
    "values, counts = np.unique(specs, return_counts=True)"
   ]
  },
  {
   "cell_type": "code",
   "execution_count": 34,
   "metadata": {},
   "outputs": [],
   "source": [
    "sort_index=np.argsort(counts)[::-1]\n",
    "values=[values[i] for i in sort_index]\n",
    "counts=[counts[i] for i in sort_index]"
   ]
  },
  {
   "cell_type": "code",
   "execution_count": 35,
   "metadata": {},
   "outputs": [
    {
     "data": {
      "image/png": "[encoded data removed]",
      "text/plain": [
       "<Figure size 1080x360 with 1 Axes>"
      ]
     },
     "metadata": {},
     "output_type": "display_data"
    }
   ],
   "source": [
    "fig = plt.figure(figsize = (15,5))\n",
    "sns.barplot(x = values[:30], y = counts[:30])\n",
    "plt.xticks(rotation=45,ha='right')\n",
    "plt.xlabel('Generos',fontsize=16)\n",
    "plt.ylabel('Numero de juegos',fontsize=16)\n",
    "plt.title('Cantidad de juegos por generos',fontsize=20)\n",
    "plt.show()"
   ]
  },
  {
   "cell_type": "markdown",
   "metadata": {},
   "source": [
    "* #### price ####"
   ]
  },
  {
   "cell_type": "code",
   "execution_count": 36,
   "metadata": {},
   "outputs": [],
   "source": [
    "dg['price'].fillna(value=0,inplace=True)\n",
    "\n",
    "precio=['Free to Play','Free To Play','Free','Play for Free!','Play WARMACHINE: Tactics Demo','Play the Demo','Free Mod','Free to Use','Install Now','Free to Try','Third-party','Free Movie','Free HITMAN™ Holiday Pack','Install Theme','Free Demo','Play Now']\n",
    "\n",
    "precio_nuevo=['0','0','0','0','0','0','0','0','0','0','0','0','0','0','0','0']\n",
    "\n",
    "dg.price.replace(precio,precio_nuevo,inplace=True)\n",
    "dg.price.replace('Starting at $449.00','449.00',inplace=True)\n",
    "dg.price.replace('Starting at $499.00','499.00',inplace=True)\n",
    "\n",
    "dg.price.unique()\n",
    "dg.price=dg.price.astype('float16')"
   ]
  },
  {
   "cell_type": "code",
   "execution_count": 37,
   "metadata": {},
   "outputs": [
    {
     "data": {
      "image/png": "[encoded data removed]",
      "text/plain": [
       "<Figure size 1440x360 with 2 Axes>"
      ]
     },
     "metadata": {},
     "output_type": "display_data"
    }
   ],
   "source": [
    "fig = plt.figure(figsize = (10*2,5))\n",
    "plt.subplot(1,2,1)\n",
    "sns.distplot(dg['price'][dg.price<100],kde=False)\n",
    "plt.xlabel('precio',fontsize=16)\n",
    "plt.ylabel('Número de juegos',fontsize=16)\n",
    "plt.title('Distribución Precio',fontsize=20)\n",
    "\n",
    "plt.subplot(1,2,2)\n",
    "sns.boxplot(dg['price'][dg.price<100])\n",
    "plt.xlabel('precio',fontsize=16)\n",
    "plt.title('Distribución Precio',fontsize=20)\n",
    "\n",
    "\n",
    "plt.show()"
   ]
  },
  {
   "cell_type": "markdown",
   "metadata": {},
   "source": [
    "* #### product ID ####"
   ]
  },
  {
   "cell_type": "code",
   "execution_count": 38,
   "metadata": {},
   "outputs": [],
   "source": [
    "dg.dropna(subset=['product_id'],inplace=True)"
   ]
  },
  {
   "cell_type": "markdown",
   "metadata": {},
   "source": [
    "* #### Sentiment ####"
   ]
  },
  {
   "cell_type": "code",
   "execution_count": 39,
   "metadata": {},
   "outputs": [
    {
     "data": {
      "text/html": [
       "<div>\n",
       "<style scoped>\n",
       "    .dataframe tbody tr th:only-of-type {\n",
       "        vertical-align: middle;\n",
       "    }\n",
       "\n",
       "    .dataframe tbody tr th {\n",
       "        vertical-align: top;\n",
       "    }\n",
       "\n",
       "    .dataframe thead th {\n",
       "        text-align: right;\n",
       "    }\n",
       "</style>\n",
       "<table border=\"1\" class=\"dataframe\">\n",
       "  <thead>\n",
       "    <tr style=\"text-align: right;\">\n",
       "      <th></th>\n",
       "      <th>sentiment</th>\n",
       "      <th>product_id</th>\n",
       "    </tr>\n",
       "  </thead>\n",
       "  <tbody>\n",
       "    <tr>\n",
       "      <th>0</th>\n",
       "      <td>0</td>\n",
       "      <td>7181</td>\n",
       "    </tr>\n",
       "    <tr>\n",
       "      <th>1</th>\n",
       "      <td>1 user reviews</td>\n",
       "      <td>2496</td>\n",
       "    </tr>\n",
       "    <tr>\n",
       "      <th>2</th>\n",
       "      <td>2 user reviews</td>\n",
       "      <td>1756</td>\n",
       "    </tr>\n",
       "    <tr>\n",
       "      <th>3</th>\n",
       "      <td>3 user reviews</td>\n",
       "      <td>1231</td>\n",
       "    </tr>\n",
       "    <tr>\n",
       "      <th>4</th>\n",
       "      <td>4 user reviews</td>\n",
       "      <td>964</td>\n",
       "    </tr>\n",
       "    <tr>\n",
       "      <th>5</th>\n",
       "      <td>5 user reviews</td>\n",
       "      <td>846</td>\n",
       "    </tr>\n",
       "    <tr>\n",
       "      <th>6</th>\n",
       "      <td>6 user reviews</td>\n",
       "      <td>756</td>\n",
       "    </tr>\n",
       "    <tr>\n",
       "      <th>7</th>\n",
       "      <td>7 user reviews</td>\n",
       "      <td>619</td>\n",
       "    </tr>\n",
       "    <tr>\n",
       "      <th>8</th>\n",
       "      <td>8 user reviews</td>\n",
       "      <td>537</td>\n",
       "    </tr>\n",
       "    <tr>\n",
       "      <th>9</th>\n",
       "      <td>9 user reviews</td>\n",
       "      <td>488</td>\n",
       "    </tr>\n",
       "    <tr>\n",
       "      <th>10</th>\n",
       "      <td>Mixed</td>\n",
       "      <td>4103</td>\n",
       "    </tr>\n",
       "    <tr>\n",
       "      <th>11</th>\n",
       "      <td>Mostly Negative</td>\n",
       "      <td>802</td>\n",
       "    </tr>\n",
       "    <tr>\n",
       "      <th>12</th>\n",
       "      <td>Mostly Positive</td>\n",
       "      <td>2743</td>\n",
       "    </tr>\n",
       "    <tr>\n",
       "      <th>13</th>\n",
       "      <td>Negative</td>\n",
       "      <td>123</td>\n",
       "    </tr>\n",
       "    <tr>\n",
       "      <th>14</th>\n",
       "      <td>Overwhelmingly Negative</td>\n",
       "      <td>7</td>\n",
       "    </tr>\n",
       "    <tr>\n",
       "      <th>15</th>\n",
       "      <td>Overwhelmingly Positive</td>\n",
       "      <td>302</td>\n",
       "    </tr>\n",
       "    <tr>\n",
       "      <th>16</th>\n",
       "      <td>Positive</td>\n",
       "      <td>3281</td>\n",
       "    </tr>\n",
       "    <tr>\n",
       "      <th>17</th>\n",
       "      <td>Very Negative</td>\n",
       "      <td>29</td>\n",
       "    </tr>\n",
       "    <tr>\n",
       "      <th>18</th>\n",
       "      <td>Very Positive</td>\n",
       "      <td>3868</td>\n",
       "    </tr>\n",
       "  </tbody>\n",
       "</table>\n",
       "</div>"
      ],
      "text/plain": [
       "                  sentiment  product_id\n",
       "0                         0        7181\n",
       "1            1 user reviews        2496\n",
       "2            2 user reviews        1756\n",
       "3            3 user reviews        1231\n",
       "4            4 user reviews         964\n",
       "5            5 user reviews         846\n",
       "6            6 user reviews         756\n",
       "7            7 user reviews         619\n",
       "8            8 user reviews         537\n",
       "9            9 user reviews         488\n",
       "10                    Mixed        4103\n",
       "11          Mostly Negative         802\n",
       "12          Mostly Positive        2743\n",
       "13                 Negative         123\n",
       "14  Overwhelmingly Negative           7\n",
       "15  Overwhelmingly Positive         302\n",
       "16                 Positive        3281\n",
       "17            Very Negative          29\n",
       "18            Very Positive        3868"
      ]
     },
     "execution_count": 39,
     "metadata": {},
     "output_type": "execute_result"
    }
   ],
   "source": [
    "dg['sentiment'].fillna(value=0,inplace=True)\n",
    "sen=dg.product_id.groupby(by=dg.sentiment).agg('count').reset_index()\n",
    "sen"
   ]
  },
  {
   "cell_type": "markdown",
   "metadata": {},
   "source": [
    "***\n",
    "### 2. Transformaciones para los modelos ###\n",
    "\n",
    "Dado que se desarrollarán modelos de filtro colaborativo solo se utilizará el dataset games reviews. \n",
    "\n",
    "* Se descartarán las reviews con menos de 5hs jugadas, por lo visto en el análisis exploratorio."
   ]
  },
  {
   "cell_type": "code",
   "execution_count": 40,
   "metadata": {},
   "outputs": [
    {
     "data": {
      "text/html": [
       "<div>\n",
       "<style scoped>\n",
       "    .dataframe tbody tr th:only-of-type {\n",
       "        vertical-align: middle;\n",
       "    }\n",
       "\n",
       "    .dataframe tbody tr th {\n",
       "        vertical-align: top;\n",
       "    }\n",
       "\n",
       "    .dataframe thead th {\n",
       "        text-align: right;\n",
       "    }\n",
       "</style>\n",
       "<table border=\"1\" class=\"dataframe\">\n",
       "  <thead>\n",
       "    <tr style=\"text-align: right;\">\n",
       "      <th></th>\n",
       "      <th>username</th>\n",
       "      <th>product_id</th>\n",
       "      <th>hours</th>\n",
       "      <th>title</th>\n",
       "    </tr>\n",
       "  </thead>\n",
       "  <tbody>\n",
       "    <tr>\n",
       "      <th>0</th>\n",
       "      <td>󰀗THE0ERROR󰀗</td>\n",
       "      <td>322330</td>\n",
       "      <td>99.0</td>\n",
       "      <td>Don't Starve Together</td>\n",
       "    </tr>\n",
       "    <tr>\n",
       "      <th>1</th>\n",
       "      <td>󰀗THE0ERROR󰀗</td>\n",
       "      <td>204300</td>\n",
       "      <td>138.1</td>\n",
       "      <td>Awesomenauts - the 2D moba</td>\n",
       "    </tr>\n",
       "    <tr>\n",
       "      <th>2</th>\n",
       "      <td>󰀗S-Rabbit󰀗</td>\n",
       "      <td>322330</td>\n",
       "      <td>116.0</td>\n",
       "      <td>Don't Starve Together</td>\n",
       "    </tr>\n",
       "    <tr>\n",
       "      <th>3</th>\n",
       "      <td>󰀗 Lolicage</td>\n",
       "      <td>244630</td>\n",
       "      <td>7.5</td>\n",
       "      <td>NEOTOKYO</td>\n",
       "    </tr>\n",
       "    <tr>\n",
       "      <th>4</th>\n",
       "      <td>󰀖Mr.Tarunio</td>\n",
       "      <td>391540</td>\n",
       "      <td>22.1</td>\n",
       "      <td>Undertale</td>\n",
       "    </tr>\n",
       "    <tr>\n",
       "      <th>...</th>\n",
       "      <td>...</td>\n",
       "      <td>...</td>\n",
       "      <td>...</td>\n",
       "      <td>...</td>\n",
       "    </tr>\n",
       "    <tr>\n",
       "      <th>4789650</th>\n",
       "      <td>!</td>\n",
       "      <td>386360</td>\n",
       "      <td>6.5</td>\n",
       "      <td>SMITE®</td>\n",
       "    </tr>\n",
       "    <tr>\n",
       "      <th>4789651</th>\n",
       "      <td>!</td>\n",
       "      <td>377160</td>\n",
       "      <td>123.3</td>\n",
       "      <td>Fallout 4</td>\n",
       "    </tr>\n",
       "    <tr>\n",
       "      <th>4789652</th>\n",
       "      <td>!</td>\n",
       "      <td>304240</td>\n",
       "      <td>42.7</td>\n",
       "      <td>Resident Evil / biohazard HD REMASTER</td>\n",
       "    </tr>\n",
       "    <tr>\n",
       "      <th>4789653</th>\n",
       "      <td>!</td>\n",
       "      <td>227940</td>\n",
       "      <td>20.9</td>\n",
       "      <td>Heroes &amp;amp; Generals</td>\n",
       "    </tr>\n",
       "    <tr>\n",
       "      <th>4789654</th>\n",
       "      <td>!</td>\n",
       "      <td>108600</td>\n",
       "      <td>13.6</td>\n",
       "      <td>Project Zomboid</td>\n",
       "    </tr>\n",
       "  </tbody>\n",
       "</table>\n",
       "<p>4789655 rows × 4 columns</p>\n",
       "</div>"
      ],
      "text/plain": [
       "            username  product_id  hours                                  title\n",
       "0        󰀗THE0ERROR󰀗      322330   99.0                  Don't Starve Together\n",
       "1        󰀗THE0ERROR󰀗      204300  138.1             Awesomenauts - the 2D moba\n",
       "2         󰀗S-Rabbit󰀗      322330  116.0                  Don't Starve Together\n",
       "3         󰀗 Lolicage      244630    7.5                               NEOTOKYO\n",
       "4        󰀖Mr.Tarunio      391540   22.1                              Undertale\n",
       "...              ...         ...    ...                                    ...\n",
       "4789650            !      386360    6.5                                 SMITE®\n",
       "4789651            !      377160  123.3                              Fallout 4\n",
       "4789652            !      304240   42.7  Resident Evil / biohazard HD REMASTER\n",
       "4789653            !      227940   20.9                  Heroes &amp; Generals\n",
       "4789654            !      108600   13.6                        Project Zomboid\n",
       "\n",
       "[4789655 rows x 4 columns]"
      ]
     },
     "execution_count": 40,
     "metadata": {},
     "output_type": "execute_result"
    }
   ],
   "source": [
    "ind = dr.hours[dr['hours']<5].index\n",
    "dr.drop(index=ind,inplace=True)\n",
    "dr.reset_index(drop=True)"
   ]
  },
  {
   "cell_type": "markdown",
   "metadata": {},
   "source": [
    "* Se descartarán todos los usuarios con menos de 12 reviews, para homogeneizar el dataset."
   ]
  },
  {
   "cell_type": "code",
   "execution_count": 41,
   "metadata": {},
   "outputs": [
    {
     "data": {
      "text/html": [
       "<div>\n",
       "<style scoped>\n",
       "    .dataframe tbody tr th:only-of-type {\n",
       "        vertical-align: middle;\n",
       "    }\n",
       "\n",
       "    .dataframe tbody tr th {\n",
       "        vertical-align: top;\n",
       "    }\n",
       "\n",
       "    .dataframe thead th {\n",
       "        text-align: right;\n",
       "    }\n",
       "</style>\n",
       "<table border=\"1\" class=\"dataframe\">\n",
       "  <thead>\n",
       "    <tr style=\"text-align: right;\">\n",
       "      <th></th>\n",
       "      <th>username</th>\n",
       "      <th>product_id</th>\n",
       "      <th>hours</th>\n",
       "      <th>title</th>\n",
       "    </tr>\n",
       "  </thead>\n",
       "  <tbody>\n",
       "    <tr>\n",
       "      <th>0</th>\n",
       "      <td>󰀈Spectra󰀈</td>\n",
       "      <td>588430</td>\n",
       "      <td>60.3</td>\n",
       "      <td>Fallout Shelter</td>\n",
       "    </tr>\n",
       "    <tr>\n",
       "      <th>1</th>\n",
       "      <td>󰀈Spectra󰀈</td>\n",
       "      <td>401680</td>\n",
       "      <td>5.4</td>\n",
       "      <td>POSTAL Redux</td>\n",
       "    </tr>\n",
       "    <tr>\n",
       "      <th>2</th>\n",
       "      <td>󰀈Spectra󰀈</td>\n",
       "      <td>397550</td>\n",
       "      <td>40.2</td>\n",
       "      <td>Deus Ex: Revision</td>\n",
       "    </tr>\n",
       "    <tr>\n",
       "      <th>3</th>\n",
       "      <td>󰀈Spectra󰀈</td>\n",
       "      <td>364470</td>\n",
       "      <td>83.2</td>\n",
       "      <td>The Elder Scrolls®: Legends™</td>\n",
       "    </tr>\n",
       "    <tr>\n",
       "      <th>4</th>\n",
       "      <td>󰀈Spectra󰀈</td>\n",
       "      <td>319630</td>\n",
       "      <td>19.3</td>\n",
       "      <td>Life is Strange - Episode 1</td>\n",
       "    </tr>\n",
       "    <tr>\n",
       "      <th>...</th>\n",
       "      <td>...</td>\n",
       "      <td>...</td>\n",
       "      <td>...</td>\n",
       "      <td>...</td>\n",
       "    </tr>\n",
       "    <tr>\n",
       "      <th>957958</th>\n",
       "      <td>! Taz the Husky</td>\n",
       "      <td>40100</td>\n",
       "      <td>58.9</td>\n",
       "      <td>Supreme Commander 2</td>\n",
       "    </tr>\n",
       "    <tr>\n",
       "      <th>957959</th>\n",
       "      <td>! Taz the Husky</td>\n",
       "      <td>39680</td>\n",
       "      <td>18.1</td>\n",
       "      <td>The Guild II Renaissance</td>\n",
       "    </tr>\n",
       "    <tr>\n",
       "      <th>957960</th>\n",
       "      <td>! Taz the Husky</td>\n",
       "      <td>17570</td>\n",
       "      <td>9.2</td>\n",
       "      <td>Pirates, Vikings, and Knights II</td>\n",
       "    </tr>\n",
       "    <tr>\n",
       "      <th>957961</th>\n",
       "      <td>! Taz the Husky</td>\n",
       "      <td>17500</td>\n",
       "      <td>171.0</td>\n",
       "      <td>Zombie Panic! Source</td>\n",
       "    </tr>\n",
       "    <tr>\n",
       "      <th>957962</th>\n",
       "      <td>! Taz the Husky</td>\n",
       "      <td>2870</td>\n",
       "      <td>11.9</td>\n",
       "      <td>X Rebirth</td>\n",
       "    </tr>\n",
       "  </tbody>\n",
       "</table>\n",
       "<p>957963 rows × 4 columns</p>\n",
       "</div>"
      ],
      "text/plain": [
       "               username  product_id  hours                             title\n",
       "0             󰀈Spectra󰀈      588430   60.3                   Fallout Shelter\n",
       "1             󰀈Spectra󰀈      401680    5.4                      POSTAL Redux\n",
       "2             󰀈Spectra󰀈      397550   40.2                 Deus Ex: Revision\n",
       "3             󰀈Spectra󰀈      364470   83.2      The Elder Scrolls®: Legends™\n",
       "4             󰀈Spectra󰀈      319630   19.3       Life is Strange - Episode 1\n",
       "...                 ...         ...    ...                               ...\n",
       "957958  ! Taz the Husky       40100   58.9               Supreme Commander 2\n",
       "957959  ! Taz the Husky       39680   18.1          The Guild II Renaissance\n",
       "957960  ! Taz the Husky       17570    9.2  Pirates, Vikings, and Knights II\n",
       "957961  ! Taz the Husky       17500  171.0              Zombie Panic! Source\n",
       "957962  ! Taz the Husky        2870   11.9                         X Rebirth\n",
       "\n",
       "[957963 rows x 4 columns]"
      ]
     },
     "execution_count": 41,
     "metadata": {},
     "output_type": "execute_result"
    }
   ],
   "source": [
    "usu = dr['product_id'].groupby(dr['username']).agg(['count']).reset_index()\n",
    "dr = pd.merge(dr,usu,on='username')\n",
    "ind = dr[dr['count']<=12].index\n",
    "dr.drop(index=ind,inplace=True)\n",
    "dr.drop(['count'],axis=1,inplace=True)\n",
    "dr.reset_index(drop=True)"
   ]
  },
  {
   "cell_type": "markdown",
   "metadata": {},
   "source": [
    "* Se descartarán los juegos con menos de 25 reviews, estos juegos no cumplen con la suficiente cantidad de usuarios para ser recomendados."
   ]
  },
  {
   "cell_type": "code",
   "execution_count": 42,
   "metadata": {},
   "outputs": [
    {
     "data": {
      "text/html": [
       "<div>\n",
       "<style scoped>\n",
       "    .dataframe tbody tr th:only-of-type {\n",
       "        vertical-align: middle;\n",
       "    }\n",
       "\n",
       "    .dataframe tbody tr th {\n",
       "        vertical-align: top;\n",
       "    }\n",
       "\n",
       "    .dataframe thead th {\n",
       "        text-align: right;\n",
       "    }\n",
       "</style>\n",
       "<table border=\"1\" class=\"dataframe\">\n",
       "  <thead>\n",
       "    <tr style=\"text-align: right;\">\n",
       "      <th></th>\n",
       "      <th>username</th>\n",
       "      <th>product_id</th>\n",
       "      <th>hours</th>\n",
       "      <th>title</th>\n",
       "    </tr>\n",
       "  </thead>\n",
       "  <tbody>\n",
       "    <tr>\n",
       "      <th>0</th>\n",
       "      <td>󰀈Spectra󰀈</td>\n",
       "      <td>588430</td>\n",
       "      <td>60.3</td>\n",
       "      <td>Fallout Shelter</td>\n",
       "    </tr>\n",
       "    <tr>\n",
       "      <th>1</th>\n",
       "      <td>󠀡󠀡󠀡󠀡󠀡󠀡󠀡󠀡󠀡󠀡</td>\n",
       "      <td>588430</td>\n",
       "      <td>21.8</td>\n",
       "      <td>Fallout Shelter</td>\n",
       "    </tr>\n",
       "    <tr>\n",
       "      <th>2</th>\n",
       "      <td>💚 Lewy</td>\n",
       "      <td>588430</td>\n",
       "      <td>19.5</td>\n",
       "      <td>Fallout Shelter</td>\n",
       "    </tr>\n",
       "    <tr>\n",
       "      <th>3</th>\n",
       "      <td>🎉</td>\n",
       "      <td>588430</td>\n",
       "      <td>19.4</td>\n",
       "      <td>Fallout Shelter</td>\n",
       "    </tr>\n",
       "    <tr>\n",
       "      <th>4</th>\n",
       "      <td>🍁Yoo Bro🍁</td>\n",
       "      <td>588430</td>\n",
       "      <td>5.9</td>\n",
       "      <td>Fallout Shelter</td>\n",
       "    </tr>\n",
       "    <tr>\n",
       "      <th>...</th>\n",
       "      <td>...</td>\n",
       "      <td>...</td>\n",
       "      <td>...</td>\n",
       "      <td>...</td>\n",
       "    </tr>\n",
       "    <tr>\n",
       "      <th>910388</th>\n",
       "      <td>Big Boss</td>\n",
       "      <td>381990</td>\n",
       "      <td>110.4</td>\n",
       "      <td>Dragon Saga</td>\n",
       "    </tr>\n",
       "    <tr>\n",
       "      <th>910389</th>\n",
       "      <td>BattleBuddy</td>\n",
       "      <td>381990</td>\n",
       "      <td>40.8</td>\n",
       "      <td>Dragon Saga</td>\n",
       "    </tr>\n",
       "    <tr>\n",
       "      <th>910390</th>\n",
       "      <td>Batman</td>\n",
       "      <td>381990</td>\n",
       "      <td>263.3</td>\n",
       "      <td>Dragon Saga</td>\n",
       "    </tr>\n",
       "    <tr>\n",
       "      <th>910391</th>\n",
       "      <td>BOB</td>\n",
       "      <td>381990</td>\n",
       "      <td>1172.7</td>\n",
       "      <td>Dragon Saga</td>\n",
       "    </tr>\n",
       "    <tr>\n",
       "      <th>910392</th>\n",
       "      <td>Accel</td>\n",
       "      <td>381990</td>\n",
       "      <td>137.4</td>\n",
       "      <td>Dragon Saga</td>\n",
       "    </tr>\n",
       "  </tbody>\n",
       "</table>\n",
       "<p>910393 rows × 4 columns</p>\n",
       "</div>"
      ],
      "text/plain": [
       "           username  product_id   hours            title\n",
       "0         󰀈Spectra󰀈      588430    60.3  Fallout Shelter\n",
       "1        󠀡󠀡󠀡󠀡󠀡󠀡󠀡󠀡󠀡󠀡      588430    21.8  Fallout Shelter\n",
       "2            💚 Lewy      588430    19.5  Fallout Shelter\n",
       "3                 🎉      588430    19.4  Fallout Shelter\n",
       "4         🍁Yoo Bro🍁      588430     5.9  Fallout Shelter\n",
       "...             ...         ...     ...              ...\n",
       "910388     Big Boss      381990   110.4      Dragon Saga\n",
       "910389  BattleBuddy      381990    40.8      Dragon Saga\n",
       "910390       Batman      381990   263.3      Dragon Saga\n",
       "910391          BOB      381990  1172.7      Dragon Saga\n",
       "910392        Accel      381990   137.4      Dragon Saga\n",
       "\n",
       "[910393 rows x 4 columns]"
      ]
     },
     "execution_count": 42,
     "metadata": {},
     "output_type": "execute_result"
    }
   ],
   "source": [
    "usu = dr['username'].groupby(dr['product_id']).agg(['count']).reset_index()\n",
    "dr = pd.merge(dr,usu,on='product_id')\n",
    "ind = dr[dr['count']<=25].index\n",
    "dr.drop(index=ind,inplace=True)\n",
    "dr.drop(['count'],axis=1,inplace=True)\n",
    "dr.reset_index(drop=True)"
   ]
  },
  {
   "cell_type": "markdown",
   "metadata": {},
   "source": [
    "Se crea un código nuevo para los usuarios y los items."
   ]
  },
  {
   "cell_type": "code",
   "execution_count": 43,
   "metadata": {},
   "outputs": [],
   "source": [
    "from sklearn.preprocessing import LabelEncoder\n",
    "le = LabelEncoder()\n",
    "\n",
    "dr['userid'] = le.fit_transform(dr['username'])\n",
    "dr['productid'] = le.fit_transform(dr['product_id'])\n",
    "dr['play'] = 1"
   ]
  },
  {
   "cell_type": "markdown",
   "metadata": {},
   "source": [
    "Se utilizará la librería sparse para crear las matrices de utilidad."
   ]
  },
  {
   "cell_type": "code",
   "execution_count": 44,
   "metadata": {},
   "outputs": [],
   "source": [
    "import scipy.sparse as sparse\n",
    "\n",
    "item_user = sparse.csr_matrix((dr['play'].astype(float), (dr['productid'].astype(int), dr['userid'].astype(int))))\n",
    "user_item = sparse.csr_matrix((dr['play'].astype(float), (dr['userid'].astype(int), dr['product_id'].astype(int))))\n"
   ]
  },
  {
   "cell_type": "markdown",
   "metadata": {},
   "source": [
    "***\n",
    "### 3. Desarrollo de modelos y optimización de hiperparametros ###\n",
    "\n",
    "Se utilizará la librería [Implicit](https://implicit.readthedocs.io/en/latest/), que se especializa en el manejo de Datasets de feedback implicito. Los modelos seleccionados para el desarrollo son:\n",
    "\n",
    "* K vecinos más cercanos (KNN) utilizando la medida de similitud coseno\n",
    "* K vecinos más cercanos (KNN) utilizando la medida de similitud BM25\n",
    "* Mínimos cuadrados alternantes (ALS)\n",
    "\n",
    "#### K vecinos más cercanos (KNN) ####\n",
    "\n",
    "El algoritmo de KNN considera los K elementos (siendo K un hiperparámetro) más cercanos al elemento del cual se desea predecir su interacción o preferencia y califica dicha interacción según la observación de las interacciones conocidas cercanas.\n",
    "\n",
    "En el sistema de recomendación basado en contenidos desarrollado emplea media de similitud coseno a sobre la matriz de características de los items y los sistemas tipo filtro colaborativo basados en memoria utilizan medidas de similitud coseno y BM25 sobre la matriz de utilidad item - usuario.\n",
    "\n",
    "#### Mínimos cuadrados alternante ####\n",
    "El modelo elegido es el de mínimos cuadrados alternantes, este es un modelo de factores latentes, al igual que SVD. Este tipo de modelos típicamente asocian cada usuario $u$ dentro del conjunto total de usuarios $U$ con un vector factor usuario $x_{u}$ y cada item $i$ dentro del conjunto total de items $I$ con un vector factor item $y_{i}$. \n",
    "\n",
    "Los valores de la matriz de interacción son eventos que tienen preferencias y confianza específicas, que dan el valor de cada elemento. Debido a que se está desarrollando un modelo implícito, se introducirá un conjunto de variables binarias, donde será 1 si el usuario jugo el juego más de una hora y 0 para el resto.\n",
    "\n",
    "$$p_{ui}=\\begin{cases} 1& \\ hours > 1\\\\ 0& \\ hours < 1 \\end{cases}$$\n",
    "\n",
    "Confianza es la interacción entre el usuario u y el item, escalada en el valor α.\n",
    "\n",
    "$$c_{ui} = \\alpha p_{ui}$$ \n",
    "\n",
    "La función de costo del método es la siguiente:\n",
    "\n",
    "$${min}_{x,y} \\sum_{u,i} c_{ui}(p_{ui} - x_{u}^{T}y_{i})^{2} + \\lambda \\bigg(\\sum_{u} \\|x_{u}\\|^{2} + \\sum_{i} \\|y_{i}\\|^{2}\\bigg)$$\n",
    "\n",
    "Finalmente, el término $\\lambda$ se utiliza para regularizar el modelo y su valor se puede determinar mediante validación cruzada.\n",
    "\n",
    "La minimización de esta función se desarrolla con el método de gradiente conjugado desarrollado en el artículo [Applications of the Conjugate Gradient Method for Implicit Feedback Collaborative Filtering](http://citeseerx.ist.psu.edu/viewdoc/download?doi=10.1.1.379.6473&rep=rep1&type=pdf).\n",
    "\n",
    "\n",
    "#### Optimización bayesiana para los hiperparámetros ####\n",
    "\n",
    "Para aquellos que poseen varios hipeparámetros se desarrollara un procedimiento de [optimización bayesiana](https://machinelearningmastery.com/what-is-bayesian-optimization/), utilizando la libreria [scikit-optimize](https://scikit-optimize.github.io/stable/) para los hiperparámetros utilizando procesos gausianos. La idea de este procedimiento es aproximar la función de costo como la superposición de funciones gausianas y a partir de este enfoque evaluar la métrica obtenida con cada iteración para buscar la configuración de hiperparámetros que minimice la función de costo.\n",
    "\n",
    "La gran ventaja que tiene este enfoque es el algoritmo aprende de los resultados anteriores y se ajusta hasta cumplir con las condiciones solicitadas de convergencia, a diferencia de la optimización por grilla o randomizado que requiere un gran número de iteraciones, lo que se ve reflejado en tiempos de ejecución mucho mayores.\n"
   ]
  },
  {
   "cell_type": "code",
   "execution_count": 45,
   "metadata": {},
   "outputs": [],
   "source": [
    "import os\n",
    "\n",
    "from implicit.als import AlternatingLeastSquares\n",
    "from implicit.nearest_neighbours import CosineRecommender, BM25Recommender\n",
    "from implicit.evaluation import train_test_split, ranking_metrics_at_k\n",
    "\n",
    "from skopt import gp_minimize\n",
    "from skopt.space import Integer, Real\n",
    "from skopt.utils import use_named_args\n",
    "from skopt.callbacks import DeltaYStopper, DeadlineStopper\n",
    "from skopt.plots import plot_convergence\n",
    "\n",
    "os.environ['MKL_NUM_THREADS'] = '1'"
   ]
  },
  {
   "cell_type": "markdown",
   "metadata": {},
   "source": [
    "Se dividirá el dataset para entrenar los modelos y evaluarlo con la métrica."
   ]
  },
  {
   "cell_type": "code",
   "execution_count": 46,
   "metadata": {},
   "outputs": [],
   "source": [
    "train,test = train_test_split(item_user,train_percentage=0.8)"
   ]
  },
  {
   "cell_type": "markdown",
   "metadata": {},
   "source": [
    "***\n",
    "#### 0. Modelo ALS - Proyecto 3 ####\n",
    "\n",
    "Los hiperparametros definidos son:\n",
    "* `alpha` = 28\n",
    "* `factors`= 20\n",
    "* `regularization` = 0.7525\n",
    "* `iterations` = 40"
   ]
  },
  {
   "cell_type": "code",
   "execution_count": 47,
   "metadata": {},
   "outputs": [
    {
     "data": {
      "application/vnd.jupyter.widget-view+json": {
       "model_id": "17929cb412d04808838338eff2f291da",
       "version_major": 2,
       "version_minor": 0
      },
      "text/plain": [
       "HBox(children=(HTML(value=''), FloatProgress(value=0.0, max=40.0), HTML(value='')))"
      ]
     },
     "metadata": {},
     "output_type": "display_data"
    },
    {
     "name": "stdout",
     "output_type": "stream",
     "text": [
      "\n"
     ]
    }
   ],
   "source": [
    "alpha_val = 28\n",
    "data_conf = (item_user * alpha_val).astype('double')\n",
    "train, test = train_test_split(data_conf,train_percentage=0.8)\n",
    "model = AlternatingLeastSquares(factors=20,regularization=0.7525,iterations=40)\n",
    "model.fit(train)"
   ]
  },
  {
   "cell_type": "code",
   "execution_count": 48,
   "metadata": {},
   "outputs": [
    {
     "data": {
      "application/vnd.jupyter.widget-view+json": {
       "model_id": "9ee74301247f4ef2a130aa02cd2576c3",
       "version_major": 2,
       "version_minor": 0
      },
      "text/plain": [
       "HBox(children=(HTML(value=''), FloatProgress(value=0.0, max=35983.0), HTML(value='')))"
      ]
     },
     "metadata": {},
     "output_type": "display_data"
    },
    {
     "name": "stdout",
     "output_type": "stream",
     "text": [
      "\n",
      "MAP ALS - Proyecto 3: 0.05059\n"
     ]
    }
   ],
   "source": [
    "metric_ALS_Proy3 = ranking_metrics_at_k(model, train.T, test.T, K=20)\n",
    "\n",
    "print('MAP ALS - Proyecto 3:',round(metric_ALS_Proy3['map'],5))"
   ]
  },
  {
   "cell_type": "markdown",
   "metadata": {},
   "source": [
    "\n",
    "#### 1. Modelo de Benchmark ####\n",
    "\n",
    "Se realizará un modelo de benchmark comparando los TOP 10 items más populares. Para esto se creará una clase que recomiende según el score propuesto según la popularidad de los items."
   ]
  },
  {
   "cell_type": "code",
   "execution_count": 49,
   "metadata": {},
   "outputs": [],
   "source": [
    "ranking = dr.productid.value_counts().index\n",
    "score = np.linspace(10,-10,len(ranking))\n",
    "recomendations = list(tuple(zip(ranking, score)))"
   ]
  },
  {
   "cell_type": "code",
   "execution_count": 50,
   "metadata": {},
   "outputs": [],
   "source": [
    "class Benchmark:\n",
    "    def __init__(self, recomendations):\n",
    "        self.recomendations = recomendations\n",
    "        \n",
    "    def recommend(self, userid, user_item, N):\n",
    "        recomendations = self.recomendations[:N]\n",
    "        return recomendations"
   ]
  },
  {
   "cell_type": "code",
   "execution_count": 51,
   "metadata": {},
   "outputs": [],
   "source": [
    "model_Benchmark = Benchmark(recomendations)"
   ]
  },
  {
   "cell_type": "code",
   "execution_count": 52,
   "metadata": {},
   "outputs": [
    {
     "data": {
      "application/vnd.jupyter.widget-view+json": {
       "model_id": "acf9a27cf85d4df787d37451f4f1347d",
       "version_major": 2,
       "version_minor": 0
      },
      "text/plain": [
       "HBox(children=(HTML(value=''), FloatProgress(value=0.0, max=35983.0), HTML(value='')))"
      ]
     },
     "metadata": {},
     "output_type": "display_data"
    },
    {
     "name": "stdout",
     "output_type": "stream",
     "text": [
      "\n",
      "MAP benchmark:  0.02902\n"
     ]
    }
   ],
   "source": [
    "metrics_benchmark = ranking_metrics_at_k(model_Benchmark, train.T, test.T, K=20, show_progress=True)\n",
    "print('MAP benchmark: ',round(metrics_benchmark['map'],5))"
   ]
  },
  {
   "cell_type": "markdown",
   "metadata": {},
   "source": [
    "#### 2. K vecinos mas cercanos (KNN) - Similitud coseno ####\n",
    "\n",
    "Debido a que este modelo solo tiene un hiperparametro, se realizara la optimización utilizando la iteración."
   ]
  },
  {
   "cell_type": "code",
   "execution_count": 53,
   "metadata": {},
   "outputs": [
    {
     "name": "stdout",
     "output_type": "stream",
     "text": [
      "Wall time: 2min 8s\n"
     ]
    }
   ],
   "source": [
    "%%time\n",
    "\n",
    "Ks = np.arange(1,50)\n",
    "metric_KNN_cos = []\n",
    "\n",
    "\n",
    "for K in Ks:\n",
    "    model = CosineRecommender(K=K)\n",
    "    model.fit(train, show_progress=False)\n",
    "    r = ranking_metrics_at_k(model, train.T, test.T, K=20, show_progress=False)\n",
    "    metric_KNN_cos.append(r['map'])"
   ]
  },
  {
   "cell_type": "code",
   "execution_count": 54,
   "metadata": {},
   "outputs": [
    {
     "data": {
      "image/png": "[encoded data removed]",
      "text/plain": [
       "<Figure size 720x360 with 1 Axes>"
      ]
     },
     "metadata": {},
     "output_type": "display_data"
    }
   ],
   "source": [
    "fig = plt.figure(figsize = (10,5))\n",
    "plt.title('MAP con respecto al K para el modelo KNN con similitud coseno',fontsize=20)\n",
    "plt.plot(Ks, metric_KNN_cos)\n",
    "plt.xlabel('K',fontsize=16)\n",
    "plt.ylabel('MAP',fontsize=16)\n",
    "plt.grid(True)"
   ]
  },
  {
   "cell_type": "code",
   "execution_count": 55,
   "metadata": {},
   "outputs": [
    {
     "data": {
      "application/vnd.jupyter.widget-view+json": {
       "model_id": "898be1bdf5ee4253817f6ad49f053f05",
       "version_major": 2,
       "version_minor": 0
      },
      "text/plain": [
       "HBox(children=(HTML(value=''), FloatProgress(value=0.0, max=3303.0), HTML(value='')))"
      ]
     },
     "metadata": {},
     "output_type": "display_data"
    },
    {
     "name": "stdout",
     "output_type": "stream",
     "text": [
      "\n"
     ]
    }
   ],
   "source": [
    "model = CosineRecommender(K=6)\n",
    "model.fit(train, show_progress=True)"
   ]
  },
  {
   "cell_type": "code",
   "execution_count": 56,
   "metadata": {},
   "outputs": [
    {
     "data": {
      "application/vnd.jupyter.widget-view+json": {
       "model_id": "9c6ffefabdad46a99be7c53de3e78190",
       "version_major": 2,
       "version_minor": 0
      },
      "text/plain": [
       "HBox(children=(HTML(value=''), FloatProgress(value=0.0, max=35983.0), HTML(value='')))"
      ]
     },
     "metadata": {},
     "output_type": "display_data"
    },
    {
     "name": "stdout",
     "output_type": "stream",
     "text": [
      "\n",
      "MAP KNN - Sim. Coseno: 0.052\n"
     ]
    }
   ],
   "source": [
    "metric_KNN_cos = ranking_metrics_at_k(model, train.T, test.T, K=20, show_progress=True)\n",
    "\n",
    "print('MAP KNN - Sim. Coseno:',round(metric_KNN_cos['map'],3))"
   ]
  },
  {
   "cell_type": "markdown",
   "metadata": {},
   "source": [
    "#### 3. K vecinos mas cercanos (KNN) - Similitud BM25 ####"
   ]
  },
  {
   "cell_type": "code",
   "execution_count": 57,
   "metadata": {},
   "outputs": [],
   "source": [
    "search_space = [Integer(2, 100, name='Ks'), \n",
    "                 Real(0, 20, name='K1s'), \n",
    "                 Real(0, 20, name='Bs')]"
   ]
  },
  {
   "cell_type": "code",
   "execution_count": 58,
   "metadata": {},
   "outputs": [],
   "source": [
    "\n",
    "@use_named_args(search_space)\n",
    "def evaluate_model(Ks, K1s, Bs):\n",
    "    model = BM25Recommender(K=Ks, K1=K1s, B=Bs)\n",
    "    model.fit(train, show_progress=False)\n",
    "    r = ranking_metrics_at_k(model, train.T, test.T, K=20, show_progress=False)\n",
    "    return 1 - r['map']"
   ]
  },
  {
   "cell_type": "code",
   "execution_count": 59,
   "metadata": {},
   "outputs": [],
   "source": [
    "callback1 = DeltaYStopper(delta=1.5e-3, n_best=5)\n",
    "callback2 = DeadlineStopper(total_time=60*20)"
   ]
  },
  {
   "cell_type": "code",
   "execution_count": 60,
   "metadata": {},
   "outputs": [
    {
     "name": "stdout",
     "output_type": "stream",
     "text": [
      "Wall time: 3min 3s\n"
     ]
    }
   ],
   "source": [
    "%%time\n",
    "\n",
    "optimization = gp_minimize(evaluate_model, search_space, n_calls=200, callback=[callback1,callback2], random_state=42)"
   ]
  },
  {
   "cell_type": "code",
   "execution_count": 61,
   "metadata": {},
   "outputs": [
    {
     "name": "stdout",
     "output_type": "stream",
     "text": [
      "el modelo tiene un valor de MAP igual a : 0.05665569452863439\n"
     ]
    }
   ],
   "source": [
    "print('el modelo tiene un valor de MAP igual a :',(1- optimization.fun))"
   ]
  },
  {
   "cell_type": "code",
   "execution_count": 62,
   "metadata": {},
   "outputs": [
    {
     "name": "stdout",
     "output_type": "stream",
     "text": [
      "Los hiperparámetros para el modelo optimizado son:\n",
      "K :  98\n",
      "K1 :  3.0083513564281783\n",
      "B :  2.696610253835982\n"
     ]
    }
   ],
   "source": [
    "print('Los hiperparámetros para el modelo optimizado son:')\n",
    "print('K : ',optimization.x[0])\n",
    "print('K1 : ',optimization.x[1])\n",
    "print('B : ',optimization.x[2])"
   ]
  },
  {
   "cell_type": "code",
   "execution_count": 63,
   "metadata": {},
   "outputs": [
    {
     "data": {
      "image/png": "[encoded data removed]",
      "text/plain": [
       "<Figure size 1008x360 with 1 Axes>"
      ]
     },
     "metadata": {},
     "output_type": "display_data"
    }
   ],
   "source": [
    "plt.figure(figsize=(14,5))\n",
    "plot_convergence(optimization)\n",
    "plt.title('Gráfico de convergencia para 1 - MAP')\n",
    "plt.xlabel('número de iteraciones')\n",
    "plt.ylabel('1 - MAP')\n",
    "plt.xlim(1,len(optimization.func_vals))\n",
    "plt.show()"
   ]
  },
  {
   "cell_type": "code",
   "execution_count": 64,
   "metadata": {},
   "outputs": [
    {
     "data": {
      "application/vnd.jupyter.widget-view+json": {
       "model_id": "5f43c58b45bd46f1858ee628565e4ca3",
       "version_major": 2,
       "version_minor": 0
      },
      "text/plain": [
       "HBox(children=(HTML(value=''), FloatProgress(value=0.0, max=3303.0), HTML(value='')))"
      ]
     },
     "metadata": {},
     "output_type": "display_data"
    },
    {
     "name": "stdout",
     "output_type": "stream",
     "text": [
      "\n"
     ]
    }
   ],
   "source": [
    "model = BM25Recommender(K=optimization.x[0], K1=optimization.x[1], B=optimization.x[2])\n",
    "model.fit(train, show_progress=True)"
   ]
  },
  {
   "cell_type": "code",
   "execution_count": 65,
   "metadata": {},
   "outputs": [
    {
     "data": {
      "application/vnd.jupyter.widget-view+json": {
       "model_id": "d9a74f8fdf6a4ca98e62059a82697807",
       "version_major": 2,
       "version_minor": 0
      },
      "text/plain": [
       "HBox(children=(HTML(value=''), FloatProgress(value=0.0, max=35983.0), HTML(value='')))"
      ]
     },
     "metadata": {},
     "output_type": "display_data"
    },
    {
     "name": "stdout",
     "output_type": "stream",
     "text": [
      "\n",
      "MAP KNN - Sim. BM25: 0.057\n"
     ]
    }
   ],
   "source": [
    "metric_KNN_BM25 = ranking_metrics_at_k(model, train.T, test.T, K=20, show_progress=True)\n",
    "print('MAP KNN - Sim. BM25:',round(metric_KNN_BM25['map'],3))"
   ]
  },
  {
   "cell_type": "markdown",
   "metadata": {},
   "source": [
    "\n",
    "#### 4. Mínimos cuadrados alternantes (ALS) ####\n",
    "\n"
   ]
  },
  {
   "cell_type": "code",
   "execution_count": 66,
   "metadata": {},
   "outputs": [],
   "source": [
    "search_space = [Integer(5, 100, name='alfa'),\n",
    "                 Integer(10, 400, name='fact'),\n",
    "                 Real(10, 300, name='reg'),\n",
    "                 Integer(20, 150, name='ite')]"
   ]
  },
  {
   "cell_type": "code",
   "execution_count": 67,
   "metadata": {},
   "outputs": [],
   "source": [
    "@use_named_args(search_space)\n",
    "def evaluate_model(alfa, fact, reg, ite):\n",
    "    trainALS, testALS = train_test_split(item_user * alfa, train_percentage=0.8)\n",
    "    model = AlternatingLeastSquares(factors=fact, regularization=reg, iterations=ite, random_state=42)\n",
    "    model.fit(trainALS, show_progress=False)\n",
    "    r = ranking_metrics_at_k(model, trainALS.T, testALS.T, K=20, show_progress=False)\n",
    "    return 1 - r['map']"
   ]
  },
  {
   "cell_type": "code",
   "execution_count": 68,
   "metadata": {},
   "outputs": [],
   "source": [
    "callback1 = DeltaYStopper(delta=1.5e-3, n_best=5)\n",
    "callback2 = DeadlineStopper(total_time=60*60*2)"
   ]
  },
  {
   "cell_type": "code",
   "execution_count": 69,
   "metadata": {},
   "outputs": [
    {
     "name": "stdout",
     "output_type": "stream",
     "text": [
      "Wall time: 1h 42min 17s\n"
     ]
    }
   ],
   "source": [
    "%%time\n",
    "\n",
    "optimization = gp_minimize(evaluate_model, search_space, n_calls=200, callback=[callback1,callback2], random_state=42)"
   ]
  },
  {
   "cell_type": "code",
   "execution_count": 70,
   "metadata": {},
   "outputs": [
    {
     "name": "stdout",
     "output_type": "stream",
     "text": [
      "el modelo tiene un valor de MAP igual a : 0.06615958954549916\n"
     ]
    }
   ],
   "source": [
    "print('el modelo tiene un valor de MAP igual a :', (1- optimization.fun))"
   ]
  },
  {
   "cell_type": "code",
   "execution_count": 71,
   "metadata": {},
   "outputs": [
    {
     "name": "stdout",
     "output_type": "stream",
     "text": [
      "Los hiperparámetros para el modelo optimizado son los siguiente\n",
      "alpha :  16\n",
      "factor latente :  400\n",
      "regularización :  210.6296644652228\n",
      "iteraciones :  121\n"
     ]
    }
   ],
   "source": [
    "print('Los hiperparámetros para el modelo optimizado son los siguiente')\n",
    "print('alpha : ',optimization.x[0])\n",
    "print('factor latente : ',optimization.x[1])\n",
    "print('regularización : ',optimization.x[2])\n",
    "print('iteraciones : ',optimization.x[3])"
   ]
  },
  {
   "cell_type": "code",
   "execution_count": 72,
   "metadata": {},
   "outputs": [
    {
     "data": {
      "image/png": "[encoded data removed]",
      "text/plain": [
       "<Figure size 1008x360 with 1 Axes>"
      ]
     },
     "metadata": {},
     "output_type": "display_data"
    }
   ],
   "source": [
    "plt.figure(figsize=(14,5))\n",
    "plot_convergence(optimization)\n",
    "plt.title('Gráfico de convergencia para 1 - MAP')\n",
    "plt.xlabel('número de iteraciones')\n",
    "plt.ylabel('1 - MAP')\n",
    "plt.xlim(1,len(optimization.func_vals))\n",
    "plt.show()"
   ]
  },
  {
   "cell_type": "code",
   "execution_count": 73,
   "metadata": {},
   "outputs": [
    {
     "data": {
      "application/vnd.jupyter.widget-view+json": {
       "model_id": "c7c17077c47a4d058af9e5a6b21388b4",
       "version_major": 2,
       "version_minor": 0
      },
      "text/plain": [
       "HBox(children=(HTML(value=''), FloatProgress(value=0.0, max=121.0), HTML(value='')))"
      ]
     },
     "metadata": {},
     "output_type": "display_data"
    },
    {
     "name": "stdout",
     "output_type": "stream",
     "text": [
      "\n"
     ]
    }
   ],
   "source": [
    "alpha_val = optimization.x[0]\n",
    "data_conf = (item_user * alpha_val).astype('double')\n",
    "train, test = train_test_split(data_conf,train_percentage=0.8)\n",
    "model = AlternatingLeastSquares(factors=optimization.x[1],regularization=optimization.x[2],iterations=optimization.x[3])\n",
    "model.fit(train)"
   ]
  },
  {
   "cell_type": "code",
   "execution_count": 74,
   "metadata": {},
   "outputs": [
    {
     "data": {
      "application/vnd.jupyter.widget-view+json": {
       "model_id": "6d7e4cc3954446b785384d9ef6323778",
       "version_major": 2,
       "version_minor": 0
      },
      "text/plain": [
       "HBox(children=(HTML(value=''), FloatProgress(value=0.0, max=35983.0), HTML(value='')))"
      ]
     },
     "metadata": {},
     "output_type": "display_data"
    },
    {
     "name": "stdout",
     "output_type": "stream",
     "text": [
      "\n",
      "MAP ALS: 0.06721\n"
     ]
    }
   ],
   "source": [
    "metric_ALS = ranking_metrics_at_k(model, train.T, test.T, K=20)\n",
    "\n",
    "print('MAP ALS:',round(metric_ALS['map'],5))"
   ]
  },
  {
   "cell_type": "markdown",
   "metadata": {},
   "source": [
    "***\n",
    "#### Comparacion de metricas de los modelos ####"
   ]
  },
  {
   "cell_type": "code",
   "execution_count": 75,
   "metadata": {},
   "outputs": [],
   "source": [
    "metrics={'MAP ALS - Proyecto 3' :round(metric_ALS_Proy3['map'],5),\n",
    "         'MAP benchmark': round(metrics_benchmark['map'],5),\n",
    "         'MAP KNN - Sim. Coseno': round(metric_KNN_cos['map'],5),\n",
    "         'MAP KNN - Sim. BM25': round(metric_KNN_BM25['map'],5),\n",
    "         'MAP ALS': round(metric_ALS['map'],5)}\n",
    "\n",
    "metrics=pd.DataFrame.from_dict(metrics,columns=['MAP'],orient='index')"
   ]
  },
  {
   "cell_type": "code",
   "execution_count": 76,
   "metadata": {},
   "outputs": [
    {
     "data": {
      "text/html": [
       "<div>\n",
       "<style scoped>\n",
       "    .dataframe tbody tr th:only-of-type {\n",
       "        vertical-align: middle;\n",
       "    }\n",
       "\n",
       "    .dataframe tbody tr th {\n",
       "        vertical-align: top;\n",
       "    }\n",
       "\n",
       "    .dataframe thead th {\n",
       "        text-align: right;\n",
       "    }\n",
       "</style>\n",
       "<table border=\"1\" class=\"dataframe\">\n",
       "  <thead>\n",
       "    <tr style=\"text-align: right;\">\n",
       "      <th></th>\n",
       "      <th>MAP</th>\n",
       "    </tr>\n",
       "  </thead>\n",
       "  <tbody>\n",
       "    <tr>\n",
       "      <th>MAP ALS</th>\n",
       "      <td>0.06721</td>\n",
       "    </tr>\n",
       "    <tr>\n",
       "      <th>MAP KNN - Sim. BM25</th>\n",
       "      <td>0.05666</td>\n",
       "    </tr>\n",
       "    <tr>\n",
       "      <th>MAP KNN - Sim. Coseno</th>\n",
       "      <td>0.05182</td>\n",
       "    </tr>\n",
       "    <tr>\n",
       "      <th>MAP ALS - Proyecto 3</th>\n",
       "      <td>0.05059</td>\n",
       "    </tr>\n",
       "    <tr>\n",
       "      <th>MAP benchmark</th>\n",
       "      <td>0.02902</td>\n",
       "    </tr>\n",
       "  </tbody>\n",
       "</table>\n",
       "</div>"
      ],
      "text/plain": [
       "                           MAP\n",
       "MAP ALS                0.06721\n",
       "MAP KNN - Sim. BM25    0.05666\n",
       "MAP KNN - Sim. Coseno  0.05182\n",
       "MAP ALS - Proyecto 3   0.05059\n",
       "MAP benchmark          0.02902"
      ]
     },
     "execution_count": 76,
     "metadata": {},
     "output_type": "execute_result"
    }
   ],
   "source": [
    "metrics.sort_values(by='MAP',ascending=False)"
   ]
  },
  {
   "cell_type": "markdown",
   "metadata": {},
   "source": [
    "En el análisis posterior se utilizará el modelo ALS con el método de optimización Bayesiano dado que es el que presenta mejores resultados. "
   ]
  },
  {
   "cell_type": "markdown",
   "metadata": {},
   "source": [
    "***\n",
    "### 4. Análisis sobre un usuario aleatorio ###\n",
    "\n",
    "A partir de un usuario aleatorio y del modelo entrenado, se buscan las recomendaciones, la similitud entre items y usuarios. A partir del top recomendaciones y la similitud de los items, se puede esperar que los items más similares estén en la lista de items del usuario. Al mismo tiempo se puede esperar que los usuarios más similares compartan ciertos items."
   ]
  },
  {
   "cell_type": "code",
   "execution_count": 77,
   "metadata": {},
   "outputs": [],
   "source": [
    "user = 10032\n",
    "user_name = dr['username'][dr.userid==user].to_list()[0]\n",
    "list_games = dr['title'][dr.userid==user].to_list()\n",
    "list_games.sort()\n",
    "list_games_codes = dr['productid'][dr.userid==user].to_list()"
   ]
  },
  {
   "cell_type": "code",
   "execution_count": 78,
   "metadata": {},
   "outputs": [
    {
     "name": "stdout",
     "output_type": "stream",
     "text": [
      "Usuario: Glitch\n",
      "N° de juegos:  94\n",
      "Juegos:  ['2064: Read Only Memories', 'A Hat in Time', 'A Story About My Uncle', \"AKIBA'S TRIP: Undead ＆ Undressed\", 'ARK: Survival Evolved', 'AdVenture Capitalist', 'Antichamber', 'Arma 2: Operation Arrowhead', 'Arma 3', 'Assassin’s Creed® Brotherhood', 'Batman: Arkham Asylum Game of the Year Edition', 'Batman™: Arkham Origins', 'BioShock® 2', 'Blender', 'Borderlands 2', 'Clickteam Fusion 2.5', 'Crusader Kings II', 'Crusaders of the Lost Idols', 'DOOM', 'Darkest Dungeon®', 'Darksiders II Deathinitive Edition', 'DayZ', 'Divinity: Original Sin (Classic)', 'Dragon Age: Origins - Ultimate Edition', 'Dreamfall Chapters', 'Duelyst', 'EARTH DEFENSE FORCE 4.1 The Shadow of New Despair', 'Edge of Space', 'Euro Truck Simulator 2', 'F1 2016', 'FTL: Faster Than Light', 'Factorio', 'Fallout 4', \"Five Nights at Freddy's\", \"Five Nights at Freddy's 2\", \"Five Nights at Freddy's 4\", 'Fran Bow', \"Garry's Mod\", 'HELLDIVERS™', 'Hero Siege', 'Heroes &amp; Generals', 'Hurtworld', 'Invisible, Inc.', 'Just Cause 2', 'Just Cause™ 3', 'Killing Floor 2', 'LYNE', 'Loadout', 'Mafia III', 'Mass Effect', 'Minecraft: Story Mode - A Telltale Games Series', 'Miscreated', 'Natural Selection 2', 'Niche - a genetics survival game', 'Night in the Woods', 'Nuclear Throne', 'PAC-MAN™ Championship Edition DX+', 'Paladins®', 'Papers, Please', 'PlanetSide 2', 'Project Zomboid', 'Relic Hunters Zero', 'Rivals of Aether', 'Robocraft', 'Rogue Legacy', 'SEGA Mega Drive and Genesis Classics', 'SMITE®', 'STAR WARS™ - Knights of the Old Republic™', 'Saints Row 2', 'Saints Row: The Third', 'Siralim 2', 'Sonic CD', 'Space Pirates and Zombies', 'Star Conflict', 'Star Wars: Battlefront 2 (Classic, 2005)', 'Starbound', 'Stardew Valley', 'State of Decay', 'Stick Fight: The Game', 'Team Fortress 2', 'The Binding of Isaac: Rebirth', 'The Crew™', 'The Elder Scrolls® Online: Tamriel Unlimited™', 'The Walking Dead', 'The Wolf Among Us', 'This War of Mine', \"Tom Clancy's Rainbow Six® Siege\", 'Tree of Savior (English Ver.)', 'Trine 2: Complete Story', 'Trove', 'Ultimate Chicken Horse', 'Warframe', 'Watch_Dogs™', 'X-Blades']\n"
     ]
    }
   ],
   "source": [
    "print('Usuario:',user_name)\n",
    "print('N° de juegos: ', len(list_games))\n",
    "print('Juegos: ',list_games)"
   ]
  },
  {
   "cell_type": "code",
   "execution_count": 79,
   "metadata": {},
   "outputs": [],
   "source": [
    "recomendacion=model.recommend(userid=user, user_items=user_item, N=20, filter_items=list_games_codes)"
   ]
  },
  {
   "cell_type": "code",
   "execution_count": 80,
   "metadata": {},
   "outputs": [
    {
     "name": "stdout",
     "output_type": "stream",
     "text": [
      "Recomendaciones para el usuario: \n",
      "\n",
      "Undertale                      0.871545\n",
      "Rust                           0.840949\n",
      "Saints Row IV                  0.790520\n",
      "Grand Theft Auto V             0.787305\n",
      "Life is Strange - Episode 1    0.784500\n",
      "The Binding of Isaac           0.777764\n",
      "H1Z1                           0.761296\n",
      "BioShock™                      0.756055\n",
      "Clicker Heroes                 0.735221\n",
      "Portal 2                       0.731075\n",
      "Awesomenauts - the 2D moba     0.728672\n",
      "Brawlhalla                     0.717536\n",
      "Realm of the Mad God           0.657155\n",
      "Sid Meier's Civilization® V    0.652189\n",
      "Kerbal Space Program           0.649933\n",
      "The Walking Dead: Season 2     0.642709\n",
      "Mount &amp; Blade: Warband     0.637468\n",
      "Torchlight II                  0.627186\n",
      "Dying Light                    0.612375\n",
      "Counter-Strike: Source         0.600219\n",
      "dtype: float64\n"
     ]
    }
   ],
   "source": [
    "games = []\n",
    "scores = []\n",
    "print('Recomendaciones para el usuario: \\n')\n",
    "for i in range(len(recomendacion)):\n",
    "    game = dr['title'][dr.productid==recomendacion[i][0]].to_list()[0]\n",
    "    score = recomendacion[i][1]\n",
    "    \n",
    "    games.append(game)\n",
    "    scores.append(score)\n",
    "    \n",
    "recom = pd.Series(scores,games)\n",
    "print(recom)"
   ]
  },
  {
   "cell_type": "markdown",
   "metadata": {},
   "source": [
    "Se busca los items similares a la recomendación número 1."
   ]
  },
  {
   "cell_type": "code",
   "execution_count": 81,
   "metadata": {},
   "outputs": [],
   "source": [
    "top_item = recomendacion[0][0]\n",
    "\n",
    "similar = model.similar_items(itemid=top_item,N=15)"
   ]
  },
  {
   "cell_type": "code",
   "execution_count": 82,
   "metadata": {},
   "outputs": [
    {
     "name": "stdout",
     "output_type": "stream",
     "text": [
      "Juegos similares a la recomendación N°1: \n",
      "\n",
      "Undertale                                   1.000000\n",
      "HIVESWAP: Act 1                             0.410720\n",
      "PewDiePie: Legend of the Brofist            0.364250\n",
      "OneShot                                     0.354979\n",
      "I am Bread                                  0.340488\n",
      "Downwell                                    0.340031\n",
      "The End Is Nigh                             0.335255\n",
      "Pony Island                                 0.334850\n",
      "Freddy Fazbear's Pizzeria Simulator         0.329908\n",
      "Titan Souls                                 0.327824\n",
      "Team Fortress 2                             0.319352\n",
      "Detective Grimoire                          0.318762\n",
      "Dream Daddy: A Dad Dating Simulator         0.316673\n",
      "Five Nights at Freddy's: Sister Location    0.309749\n",
      "Aviary Attorney                             0.309567\n",
      "dtype: float64\n"
     ]
    }
   ],
   "source": [
    "games = []\n",
    "scores = []\n",
    "print('Juegos similares a la recomendación N°1: \\n')\n",
    "for i in range(len(similar)):\n",
    "    game = dr['title'][dr.productid==similar[i][0]].to_list()[0]\n",
    "    score = similar[i][1]\n",
    "    \n",
    "    games.append(game)\n",
    "    scores.append(score)\n",
    "    \n",
    "recom = pd.Series(scores,games)\n",
    "print(recom)"
   ]
  },
  {
   "cell_type": "code",
   "execution_count": 83,
   "metadata": {},
   "outputs": [
    {
     "name": "stdout",
     "output_type": "stream",
     "text": [
      "Número de juegos similares a la recomendación N°1 que tiene el usuario:  1\n",
      "Juegos:  ['Team Fortress 2']\n"
     ]
    }
   ],
   "source": [
    "cont = 0\n",
    "sim_games=[]\n",
    "for i in games:\n",
    "    if i in list_games:\n",
    "        cont+=1\n",
    "        sim_games.append(i)\n",
    "        \n",
    "print('Número de juegos similares a la recomendación N°1 que tiene el usuario: ',cont)\n",
    "print('Juegos: ',sim_games)"
   ]
  },
  {
   "cell_type": "markdown",
   "metadata": {},
   "source": [
    "Como se esperaba los items con mayor similitud a la primera recomendación se encuentran en la lista del usuario."
   ]
  },
  {
   "cell_type": "code",
   "execution_count": 84,
   "metadata": {},
   "outputs": [
    {
     "name": "stdout",
     "output_type": "stream",
     "text": [
      "Usuarios similares a  Glitch : \n",
      "\n",
      "Glitch         1.000000\n",
      "Delta          0.482847\n",
      "Kevin          0.477641\n",
      "Just Monika    0.471522\n",
      "Phoenix        0.468570\n",
      "Echo           0.463537\n",
      "Sky            0.449127\n",
      "Max            0.449126\n",
      "Kyle           0.449067\n",
      "Panda          0.444873\n",
      "dtype: float64\n"
     ]
    }
   ],
   "source": [
    "sim_user = model.similar_users(userid=user,N=10)\n",
    "\n",
    "users = []\n",
    "scores = []\n",
    "print('Usuarios similares a ',user_name,': \\n')\n",
    "for i in range(len(sim_user)):\n",
    "    use = dr['username'][dr.userid==sim_user[i][0]].to_list()[0]\n",
    "    score = sim_user[i][1]\n",
    "    \n",
    "    users.append(use)\n",
    "    scores.append(score)\n",
    "    \n",
    "recom = pd.Series(scores,users)\n",
    "print(recom)"
   ]
  },
  {
   "cell_type": "code",
   "execution_count": 85,
   "metadata": {},
   "outputs": [
    {
     "name": "stdout",
     "output_type": "stream",
     "text": [
      "Número de juegos compartidos con el usuario mas similar:  31\n",
      "Juegos:  ['Team Fortress 2', 'AdVenture Capitalist', 'Starbound', 'Borderlands 2', 'Just Cause 2', 'Warframe', 'DayZ', 'The Walking Dead', 'Trine 2: Complete Story', \"Tom Clancy's Rainbow Six® Siege\", \"Garry's Mod\", 'Fallout 4', 'Arma 3', 'Minecraft: Story Mode - A Telltale Games Series', 'ARK: Survival Evolved', 'Divinity: Original Sin (Classic)', 'Heroes &amp; Generals', 'Factorio', 'Robocraft', 'PlanetSide 2', 'Natural Selection 2', 'State of Decay', 'Antichamber', 'Crusader Kings II', \"AKIBA'S TRIP: Undead ＆ Undressed\", 'DOOM', 'Miscreated', 'Batman™: Arkham Origins', 'Duelyst', 'FTL: Faster Than Light', 'Edge of Space']\n"
     ]
    }
   ],
   "source": [
    "top_user=sim_user[1][0]\n",
    "top_user_name = dr['username'][dr.userid==top_user].to_list()[0]\n",
    "top_list_games = dr['title'][dr.userid==top_user].to_list()\n",
    "\n",
    "\n",
    "cont = 0\n",
    "sim_games=[]\n",
    "\n",
    "for i in top_list_games:\n",
    "    if i in list_games:\n",
    "        cont+=1\n",
    "        sim_games.append(i)\n",
    "        \n",
    "print('Número de juegos compartidos con el usuario mas similar: ',cont)\n",
    "print('Juegos: ',sim_games)"
   ]
  },
  {
   "cell_type": "markdown",
   "metadata": {},
   "source": [
    "La similitud de usuarios se puede observar en la gran cantidad de items que comparten.\n",
    "\n",
    "***\n",
    "### 5. Conclusión ###\n",
    "\n",
    "Luego de una profunda exploración de datos y utilizando la librería Implicit se logró obtener un mejor modelo de recomendación para la base de datos de Steam.\n",
    "\n",
    "Si bien con el modelo de mínimos cuadrados alternante, optimizado con el método Bayesiano, se obtuvieron mejores resultados, los resultados de los modelos KNN son sustancialmente mejores que el modelo Benchmark y mejores que el modelo del proyecto 3. Los tiempos de optimización de hiperparametros se redujeron sustancialmente gracias al método Bayesiano, que en el proyecto 3 fue el limitante del rendimiento del modelo, debido a que para reducir el tiempo de procesamiento se aceptaron resultados de la optimización no tan optimas.\n",
    "\n",
    "Los tiempos de optimización de los modelos KNN son para tomar en cuenta, si los tiempos son un limitante estos modelos dan buenos resultados y con poco tiempo de procesamiento. \n",
    "\n",
    "Se pueden considerar algunas cosas que podrían mejorar el modelo de recomendación: \n",
    "\n",
    "* Filtrar los juegos según sus tags y realizar un modelo para cada categoría puede tener mejor precisión al momento de recomendar.\n",
    "\n",
    "* Hay una columna que no se utilizó en el modelo que es `sentiment` en la base de datos `data_games`, estos datos son una clasificación que nos da Steam obtenido de las reviews de los usuarios, esta columna podría servir al modelo para facilitar la recomendación.\n",
    "\n",
    "* Un tema que se dijo anteriormente es la aplicación de procesamiento de lenguaje natural en la columna de `text` de `data_reviews` para poder calificar verdaderamente la opinión del usuario al juego.\n",
    "\n",
    "* Un modelo que no se desarrolló en este proyecto es el modelo basado en contenidos utilizando la base de datos Data Games.\n",
    "\n"
   ]
  },
  {
   "cell_type": "code",
   "execution_count": null,
   "metadata": {},
   "outputs": [],
   "source": []
  }
 ],
 "metadata": {
  "colab": {
   "collapsed_sections": [],
   "name": "DS_Proyecto_03_SR.ipynb",
   "provenance": []
  },
  "kernelspec": {
   "display_name": "Python 3",
   "language": "python",
   "name": "python3"
  },
  "language_info": {
   "codemirror_mode": {
    "name": "ipython",
    "version": 3
   },
   "file_extension": ".py",
   "mimetype": "text/x-python",
   "name": "python",
   "nbconvert_exporter": "python",
   "pygments_lexer": "ipython3",
   "version": "3.8.3"
  }
 },
 "nbformat": 4,
 "nbformat_minor": 4
}
